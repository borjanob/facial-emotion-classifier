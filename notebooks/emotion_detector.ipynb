{
  "cells": [
    {
      "cell_type": "markdown",
      "metadata": {
        "id": "nYB_BRR9Z0T7"
      },
      "source": [
        "Article on ResNet: https://blog.paperspace.com/writing-resnet-from-scratch-in-pytorch/"
      ]
    },
    {
      "cell_type": "code",
      "execution_count": null,
      "metadata": {
        "id": "p56aLBCTN0Nk"
      },
      "outputs": [],
      "source": [
        "import cv2 as cv"
      ]
    },
    {
      "cell_type": "code",
      "execution_count": null,
      "metadata": {
        "colab": {
          "base_uri": "https://localhost:8080/"
        },
        "id": "DSyHQ_1XOnDB",
        "outputId": "7877c5e6-601a-4f36-f4bc-7cd22cfc9f43"
      },
      "outputs": [
        {
          "output_type": "stream",
          "name": "stdout",
          "text": [
            "Downloading...\n",
            "From (original): https://drive.google.com/uc?id=17yspNcwvU3bqyy4xtzZEIeF-WORL4OFh\n",
            "From (redirected): https://drive.google.com/uc?id=17yspNcwvU3bqyy4xtzZEIeF-WORL4OFh&confirm=t&uuid=3ecf5b1b-cb44-4ed8-b4f2-4f75c204a34b\n",
            "To: /content/emotions.zip\n",
            "100% 330M/330M [00:03<00:00, 96.8MB/s]\n",
            "Downloading...\n",
            "From: https://drive.google.com/uc?id=1JDdcd8V02fozEw_PVvBfS3Ji2YkPLHbX\n",
            "To: /content/test_problematic2.zip\n",
            "100% 6.03M/6.03M [00:00<00:00, 16.7MB/s]\n",
            "Downloading...\n",
            "From (original): https://drive.google.com/uc?id=1iinWqXkqP0TJUKLaqwAOOUyYpsCvGkd6\n",
            "From (redirected): https://drive.google.com/uc?id=1iinWqXkqP0TJUKLaqwAOOUyYpsCvGkd6&confirm=t&uuid=e850fed7-27a6-4d83-9b77-538bbfde021e\n",
            "To: /content/train_problematic2.zip\n",
            "100% 20.3M/20.3M [00:01<00:00, 16.8MB/s]\n",
            "Downloading...\n",
            "From (original): https://drive.google.com/uc?id=1L9YGgrlfVwb7q0JpkAataZAPtw1DdtCZ\n",
            "From (redirected): https://drive.google.com/uc?id=1L9YGgrlfVwb7q0JpkAataZAPtw1DdtCZ&confirm=t&uuid=7aac4e6d-bf33-45c8-ac65-a25243621c43\n",
            "To: /content/train_with_problematic2.zip\n",
            "100% 161M/161M [00:07<00:00, 22.7MB/s]\n",
            "Downloading...\n",
            "From (original): https://drive.google.com/uc?id=1YHHBIY6RqafgEyv4840kw0nr4Wqqg6U5\n",
            "From (redirected): https://drive.google.com/uc?id=1YHHBIY6RqafgEyv4840kw0nr4Wqqg6U5&confirm=t&uuid=494191ed-2ff4-4eff-8697-2f81a46cd4dd\n",
            "To: /content/test_with_problematic2.zip\n",
            "100% 40.0M/40.0M [00:01<00:00, 26.2MB/s]\n"
          ]
        }
      ],
      "source": [
        "#!gdown 17yspNcwvU3bqyy4xtzZEIeF-WORL4OFh\n",
        "!gdown 1JDdcd8V02fozEw_PVvBfS3Ji2YkPLHbX\n",
        "!gdown 1iinWqXkqP0TJUKLaqwAOOUyYpsCvGkd6\n",
        "!gdown 1L9YGgrlfVwb7q0JpkAataZAPtw1DdtCZ\n",
        "!gdown 1YHHBIY6RqafgEyv4840kw0nr4Wqqg6U5"
      ]
    },
    {
      "cell_type": "code",
      "execution_count": null,
      "metadata": {
        "id": "5JAmE2xu7-Ni"
      },
      "outputs": [],
      "source": [
        "import torch"
      ]
    },
    {
      "cell_type": "code",
      "execution_count": null,
      "metadata": {
        "id": "iTp7AhTO8N0k"
      },
      "outputs": [],
      "source": [
        "import numpy as np\n",
        "import matplotlib.pyplot as plt"
      ]
    },
    {
      "cell_type": "code",
      "execution_count": null,
      "metadata": {
        "id": "P4w1PEGl8TXQ"
      },
      "outputs": [],
      "source": [
        "from torch import nn\n",
        "import torchvision\n",
        "from torchvision import datasets,transforms\n",
        "from torchvision.transforms import ToTensor\n",
        "from torch.utils.data import Dataset, DataLoader\n",
        "from PIL import Image\n",
        "import os\n",
        "import pandas as pd\n",
        "import torch.optim.lr_scheduler as lr_scheduler\n"
      ]
    },
    {
      "cell_type": "code",
      "execution_count": null,
      "metadata": {
        "id": "bCdGN5Yt9kdW"
      },
      "outputs": [],
      "source": [
        "device = 'cuda' if torch.cuda.is_available else 'cpu'"
      ]
    },
    {
      "cell_type": "code",
      "execution_count": null,
      "metadata": {
        "colab": {
          "base_uri": "https://localhost:8080/",
          "height": 35
        },
        "id": "DkgKm0hV9p2F",
        "outputId": "bfb26b9b-1a04-4e1d-af8d-3a29dcc2e551"
      },
      "outputs": [
        {
          "output_type": "execute_result",
          "data": {
            "text/plain": [
              "'cuda'"
            ],
            "application/vnd.google.colaboratory.intrinsic+json": {
              "type": "string"
            }
          },
          "metadata": {},
          "execution_count": 6
        }
      ],
      "source": [
        "device"
      ]
    },
    {
      "cell_type": "code",
      "execution_count": null,
      "metadata": {
        "id": "tncFNqme9Q_3"
      },
      "outputs": [],
      "source": [
        "def walk_throuhh_directory(directory_path):\n",
        "  for dirpath,dirnames,filenames in os.walk(directory_path):\n",
        "    print(f'There are {len(dirnames)} directories and {len(filenames)} files in {dirpath}')"
      ]
    },
    {
      "cell_type": "code",
      "execution_count": null,
      "metadata": {
        "id": "zRBDdFkQ-W5F"
      },
      "outputs": [],
      "source": [
        "import zipfile\n",
        "from pathlib import Path"
      ]
    },
    {
      "cell_type": "code",
      "execution_count": null,
      "metadata": {
        "id": "Jx7YbibN9woI"
      },
      "outputs": [],
      "source": [
        "def unzip_folder(folder_path):\n",
        "  with zipfile.ZipFile(folder_path, 'r') as zip:\n",
        "    zip.extractall()\n",
        "    print('Done')"
      ]
    },
    {
      "cell_type": "code",
      "execution_count": null,
      "metadata": {
        "colab": {
          "base_uri": "https://localhost:8080/"
        },
        "id": "ujG8Nl9h-kpO",
        "outputId": "176c1a3d-df93-4787-d648-9d71cb512549"
      },
      "outputs": [
        {
          "output_type": "stream",
          "name": "stdout",
          "text": [
            "Done\n"
          ]
        }
      ],
      "source": [
        "#unzip_folder('/content/emotions.zip')\n",
        "unzip_folder('/content/fer.zip')"
      ]
    },
    {
      "cell_type": "code",
      "execution_count": null,
      "metadata": {
        "id": "ouT0mTi2_H77"
      },
      "outputs": [],
      "source": [
        "import pandas as pd"
      ]
    },
    {
      "cell_type": "code",
      "execution_count": null,
      "metadata": {
        "id": "9pcsxQEh_wAu",
        "colab": {
          "base_uri": "https://localhost:8080/",
          "height": 287
        },
        "outputId": "4951a9ba-68c6-432c-9ead-642a5415dbaa"
      },
      "outputs": [
        {
          "output_type": "error",
          "ename": "FileNotFoundError",
          "evalue": "[Errno 2] No such file or directory: '/content/labels.csv'",
          "traceback": [
            "\u001b[0;31m---------------------------------------------------------------------------\u001b[0m",
            "\u001b[0;31mFileNotFoundError\u001b[0m                         Traceback (most recent call last)",
            "\u001b[0;32m<ipython-input-20-e0b7e5f0f6b1>\u001b[0m in \u001b[0;36m<cell line: 1>\u001b[0;34m()\u001b[0m\n\u001b[0;32m----> 1\u001b[0;31m \u001b[0mlabels\u001b[0m \u001b[0;34m=\u001b[0m \u001b[0mpd\u001b[0m\u001b[0;34m.\u001b[0m\u001b[0mread_csv\u001b[0m\u001b[0;34m(\u001b[0m\u001b[0;34m'/content/labels.csv'\u001b[0m\u001b[0;34m)\u001b[0m\u001b[0;34m\u001b[0m\u001b[0;34m\u001b[0m\u001b[0m\n\u001b[0m",
            "\u001b[0;32m/usr/local/lib/python3.10/dist-packages/pandas/io/parsers/readers.py\u001b[0m in \u001b[0;36mread_csv\u001b[0;34m(filepath_or_buffer, sep, delimiter, header, names, index_col, usecols, dtype, engine, converters, true_values, false_values, skipinitialspace, skiprows, skipfooter, nrows, na_values, keep_default_na, na_filter, verbose, skip_blank_lines, parse_dates, infer_datetime_format, keep_date_col, date_parser, date_format, dayfirst, cache_dates, iterator, chunksize, compression, thousands, decimal, lineterminator, quotechar, quoting, doublequote, escapechar, comment, encoding, encoding_errors, dialect, on_bad_lines, delim_whitespace, low_memory, memory_map, float_precision, storage_options, dtype_backend)\u001b[0m\n\u001b[1;32m    946\u001b[0m     \u001b[0mkwds\u001b[0m\u001b[0;34m.\u001b[0m\u001b[0mupdate\u001b[0m\u001b[0;34m(\u001b[0m\u001b[0mkwds_defaults\u001b[0m\u001b[0;34m)\u001b[0m\u001b[0;34m\u001b[0m\u001b[0;34m\u001b[0m\u001b[0m\n\u001b[1;32m    947\u001b[0m \u001b[0;34m\u001b[0m\u001b[0m\n\u001b[0;32m--> 948\u001b[0;31m     \u001b[0;32mreturn\u001b[0m \u001b[0m_read\u001b[0m\u001b[0;34m(\u001b[0m\u001b[0mfilepath_or_buffer\u001b[0m\u001b[0;34m,\u001b[0m \u001b[0mkwds\u001b[0m\u001b[0;34m)\u001b[0m\u001b[0;34m\u001b[0m\u001b[0;34m\u001b[0m\u001b[0m\n\u001b[0m\u001b[1;32m    949\u001b[0m \u001b[0;34m\u001b[0m\u001b[0m\n\u001b[1;32m    950\u001b[0m \u001b[0;34m\u001b[0m\u001b[0m\n",
            "\u001b[0;32m/usr/local/lib/python3.10/dist-packages/pandas/io/parsers/readers.py\u001b[0m in \u001b[0;36m_read\u001b[0;34m(filepath_or_buffer, kwds)\u001b[0m\n\u001b[1;32m    609\u001b[0m \u001b[0;34m\u001b[0m\u001b[0m\n\u001b[1;32m    610\u001b[0m     \u001b[0;31m# Create the parser.\u001b[0m\u001b[0;34m\u001b[0m\u001b[0;34m\u001b[0m\u001b[0m\n\u001b[0;32m--> 611\u001b[0;31m     \u001b[0mparser\u001b[0m \u001b[0;34m=\u001b[0m \u001b[0mTextFileReader\u001b[0m\u001b[0;34m(\u001b[0m\u001b[0mfilepath_or_buffer\u001b[0m\u001b[0;34m,\u001b[0m \u001b[0;34m**\u001b[0m\u001b[0mkwds\u001b[0m\u001b[0;34m)\u001b[0m\u001b[0;34m\u001b[0m\u001b[0;34m\u001b[0m\u001b[0m\n\u001b[0m\u001b[1;32m    612\u001b[0m \u001b[0;34m\u001b[0m\u001b[0m\n\u001b[1;32m    613\u001b[0m     \u001b[0;32mif\u001b[0m \u001b[0mchunksize\u001b[0m \u001b[0;32mor\u001b[0m \u001b[0miterator\u001b[0m\u001b[0;34m:\u001b[0m\u001b[0;34m\u001b[0m\u001b[0;34m\u001b[0m\u001b[0m\n",
            "\u001b[0;32m/usr/local/lib/python3.10/dist-packages/pandas/io/parsers/readers.py\u001b[0m in \u001b[0;36m__init__\u001b[0;34m(self, f, engine, **kwds)\u001b[0m\n\u001b[1;32m   1446\u001b[0m \u001b[0;34m\u001b[0m\u001b[0m\n\u001b[1;32m   1447\u001b[0m         \u001b[0mself\u001b[0m\u001b[0;34m.\u001b[0m\u001b[0mhandles\u001b[0m\u001b[0;34m:\u001b[0m \u001b[0mIOHandles\u001b[0m \u001b[0;34m|\u001b[0m \u001b[0;32mNone\u001b[0m \u001b[0;34m=\u001b[0m \u001b[0;32mNone\u001b[0m\u001b[0;34m\u001b[0m\u001b[0;34m\u001b[0m\u001b[0m\n\u001b[0;32m-> 1448\u001b[0;31m         \u001b[0mself\u001b[0m\u001b[0;34m.\u001b[0m\u001b[0m_engine\u001b[0m \u001b[0;34m=\u001b[0m \u001b[0mself\u001b[0m\u001b[0;34m.\u001b[0m\u001b[0m_make_engine\u001b[0m\u001b[0;34m(\u001b[0m\u001b[0mf\u001b[0m\u001b[0;34m,\u001b[0m \u001b[0mself\u001b[0m\u001b[0;34m.\u001b[0m\u001b[0mengine\u001b[0m\u001b[0;34m)\u001b[0m\u001b[0;34m\u001b[0m\u001b[0;34m\u001b[0m\u001b[0m\n\u001b[0m\u001b[1;32m   1449\u001b[0m \u001b[0;34m\u001b[0m\u001b[0m\n\u001b[1;32m   1450\u001b[0m     \u001b[0;32mdef\u001b[0m \u001b[0mclose\u001b[0m\u001b[0;34m(\u001b[0m\u001b[0mself\u001b[0m\u001b[0;34m)\u001b[0m \u001b[0;34m->\u001b[0m \u001b[0;32mNone\u001b[0m\u001b[0;34m:\u001b[0m\u001b[0;34m\u001b[0m\u001b[0;34m\u001b[0m\u001b[0m\n",
            "\u001b[0;32m/usr/local/lib/python3.10/dist-packages/pandas/io/parsers/readers.py\u001b[0m in \u001b[0;36m_make_engine\u001b[0;34m(self, f, engine)\u001b[0m\n\u001b[1;32m   1703\u001b[0m                 \u001b[0;32mif\u001b[0m \u001b[0;34m\"b\"\u001b[0m \u001b[0;32mnot\u001b[0m \u001b[0;32min\u001b[0m \u001b[0mmode\u001b[0m\u001b[0;34m:\u001b[0m\u001b[0;34m\u001b[0m\u001b[0;34m\u001b[0m\u001b[0m\n\u001b[1;32m   1704\u001b[0m                     \u001b[0mmode\u001b[0m \u001b[0;34m+=\u001b[0m \u001b[0;34m\"b\"\u001b[0m\u001b[0;34m\u001b[0m\u001b[0;34m\u001b[0m\u001b[0m\n\u001b[0;32m-> 1705\u001b[0;31m             self.handles = get_handle(\n\u001b[0m\u001b[1;32m   1706\u001b[0m                 \u001b[0mf\u001b[0m\u001b[0;34m,\u001b[0m\u001b[0;34m\u001b[0m\u001b[0;34m\u001b[0m\u001b[0m\n\u001b[1;32m   1707\u001b[0m                 \u001b[0mmode\u001b[0m\u001b[0;34m,\u001b[0m\u001b[0;34m\u001b[0m\u001b[0;34m\u001b[0m\u001b[0m\n",
            "\u001b[0;32m/usr/local/lib/python3.10/dist-packages/pandas/io/common.py\u001b[0m in \u001b[0;36mget_handle\u001b[0;34m(path_or_buf, mode, encoding, compression, memory_map, is_text, errors, storage_options)\u001b[0m\n\u001b[1;32m    861\u001b[0m         \u001b[0;32mif\u001b[0m \u001b[0mioargs\u001b[0m\u001b[0;34m.\u001b[0m\u001b[0mencoding\u001b[0m \u001b[0;32mand\u001b[0m \u001b[0;34m\"b\"\u001b[0m \u001b[0;32mnot\u001b[0m \u001b[0;32min\u001b[0m \u001b[0mioargs\u001b[0m\u001b[0;34m.\u001b[0m\u001b[0mmode\u001b[0m\u001b[0;34m:\u001b[0m\u001b[0;34m\u001b[0m\u001b[0;34m\u001b[0m\u001b[0m\n\u001b[1;32m    862\u001b[0m             \u001b[0;31m# Encoding\u001b[0m\u001b[0;34m\u001b[0m\u001b[0;34m\u001b[0m\u001b[0m\n\u001b[0;32m--> 863\u001b[0;31m             handle = open(\n\u001b[0m\u001b[1;32m    864\u001b[0m                 \u001b[0mhandle\u001b[0m\u001b[0;34m,\u001b[0m\u001b[0;34m\u001b[0m\u001b[0;34m\u001b[0m\u001b[0m\n\u001b[1;32m    865\u001b[0m                 \u001b[0mioargs\u001b[0m\u001b[0;34m.\u001b[0m\u001b[0mmode\u001b[0m\u001b[0;34m,\u001b[0m\u001b[0;34m\u001b[0m\u001b[0;34m\u001b[0m\u001b[0m\n",
            "\u001b[0;31mFileNotFoundError\u001b[0m: [Errno 2] No such file or directory: '/content/labels.csv'"
          ]
        }
      ],
      "source": [
        "#labels = pd.read_csv('/content/labels.csv')"
      ]
    },
    {
      "cell_type": "code",
      "execution_count": null,
      "metadata": {
        "id": "Z9yPudXw_0NO"
      },
      "outputs": [],
      "source": [
        "original_folder_names = ['anger','contempt','disgust','fear','happy','neutral','sad','surprise']\n",
        "#original_folder_names = ['angry','disgusted','fearful','happy','neutral','sad','surprised']"
      ]
    },
    {
      "cell_type": "code",
      "execution_count": null,
      "metadata": {
        "id": "3jeIePh-CCqJ"
      },
      "outputs": [],
      "source": [
        "def divide_training_data(original_folder_names: list,labels: pd.DataFrame,splitting_limit_percentage:int = 80, home_path: str = '/content', labels_provided: bool = True, train_extension: str = '/train', test_extension: str = '/test'):\n",
        "\n",
        "  \"\"\"\n",
        "\n",
        "  Divides images in {original_folder_names} folders into training and testing data with correct labels.\n",
        "  Labels are provided in csv form either in labels variable or are the names of the folders.\n",
        "\n",
        "  \"\"\"\n",
        "\n",
        "  train_path = home_path + train_extension\n",
        "  test_path = home_path + test_extension\n",
        "\n",
        "  if os.path.exists(train_path) == False:\n",
        "      os.mkdir(train_path)\n",
        "  if os.path.exists(test_path) == False:\n",
        "      os.mkdir(test_path)\n",
        "\n",
        "  image_counter = 0\n",
        "  error_counter = 0\n",
        "  for folder_name in original_folder_names:\n",
        "\n",
        "    if os.path.exists(train_path + '/' + folder_name) == False:\n",
        "      os.mkdir(train_path + '/' + folder_name)\n",
        "\n",
        "    if os.path.exists(test_path + '/' + folder_name) == False:\n",
        "      os.mkdir(test_path + '/' + folder_name)\n",
        "\n",
        "    files_in_folder = os.listdir('/content/' + folder_name)\n",
        "    number_of_files_in_folder = len(files_in_folder)\n",
        "\n",
        "    limit = int(number_of_files_in_folder / 100 *80)\n",
        "\n",
        "    for index, file_name in enumerate(files_in_folder):\n",
        "\n",
        "      full_path_of_image = folder_name + '/' + file_name\n",
        "\n",
        "      #get true label from labels dataset\n",
        "      try:\n",
        "        label_of_image = labels.loc[labels['pth'] == full_path_of_image].label.item()\n",
        "\n",
        "        img = Image.open('/content/' + full_path_of_image)\n",
        "        if index <= limit:\n",
        "          img.save( train_path + '/'+ label_of_image + '/image' + str(image_counter) + file_name[-4:])\n",
        "        else:\n",
        "          img.save(test_path + '/'+ label_of_image + '/image' + str(image_counter) + file_name[-4:])\n",
        "\n",
        "        image_counter +=1\n",
        "      except:\n",
        "        error_counter +=1\n",
        "\n",
        "  print(f'Saved: {image_counter} images, with {error_counter} errors')\n"
      ]
    },
    {
      "cell_type": "code",
      "execution_count": null,
      "metadata": {
        "colab": {
          "base_uri": "https://localhost:8080/"
        },
        "id": "IJ1yv4-zUAvQ",
        "outputId": "bac358e6-8172-4078-d8fe-e933c4475387"
      },
      "outputs": [
        {
          "name": "stdout",
          "output_type": "stream",
          "text": [
            "Saved: 23470 images, with 5572 errors\n"
          ]
        }
      ],
      "source": [
        "divide_training_data(original_folder_names,labels)"
      ]
    },
    {
      "cell_type": "code",
      "execution_count": null,
      "metadata": {
        "id": "CXkmUrrel8yP"
      },
      "outputs": [],
      "source": [
        "def count_files_in_folder(folder_path):\n",
        "  return len([name for name in os.listdir(folder_path) if os.path.isfile(os.path.join(folder_path, name))])"
      ]
    },
    {
      "cell_type": "code",
      "execution_count": null,
      "metadata": {
        "id": "mbPLmIPbcTPZ"
      },
      "outputs": [],
      "source": [
        "TRAIN_DIR = '/content/train'\n",
        "TEST_DIR = '/content/test'"
      ]
    },
    {
      "cell_type": "code",
      "execution_count": null,
      "metadata": {
        "colab": {
          "base_uri": "https://localhost:8080/",
          "height": 211
        },
        "id": "HQiaHdCGmPKS",
        "outputId": "ae588ee3-6f7b-4aff-e77a-70518e631346"
      },
      "outputs": [
        {
          "output_type": "error",
          "ename": "NameError",
          "evalue": "name 'original_folder_names' is not defined",
          "traceback": [
            "\u001b[0;31m---------------------------------------------------------------------------\u001b[0m",
            "\u001b[0;31mNameError\u001b[0m                                 Traceback (most recent call last)",
            "\u001b[0;32m<ipython-input-14-8f38c7abaa0c>\u001b[0m in \u001b[0;36m<cell line: 1>\u001b[0;34m()\u001b[0m\n\u001b[0;32m----> 1\u001b[0;31m \u001b[0;32mfor\u001b[0m \u001b[0mfolder_name\u001b[0m \u001b[0;32min\u001b[0m \u001b[0moriginal_folder_names\u001b[0m\u001b[0;34m:\u001b[0m\u001b[0;34m\u001b[0m\u001b[0;34m\u001b[0m\u001b[0m\n\u001b[0m\u001b[1;32m      2\u001b[0m   \u001b[0mtrain_path\u001b[0m \u001b[0;34m=\u001b[0m \u001b[0mTRAIN_DIR\u001b[0m \u001b[0;34m+\u001b[0m \u001b[0;34mf'/{folder_name}'\u001b[0m\u001b[0;34m\u001b[0m\u001b[0;34m\u001b[0m\u001b[0m\n\u001b[1;32m      3\u001b[0m   \u001b[0mtest_path\u001b[0m \u001b[0;34m=\u001b[0m \u001b[0mTEST_DIR\u001b[0m \u001b[0;34m+\u001b[0m \u001b[0;34mf'/{folder_name}'\u001b[0m\u001b[0;34m\u001b[0m\u001b[0;34m\u001b[0m\u001b[0m\n\u001b[1;32m      4\u001b[0m \u001b[0;34m\u001b[0m\u001b[0m\n\u001b[1;32m      5\u001b[0m   \u001b[0mtrain_number_files\u001b[0m \u001b[0;34m=\u001b[0m \u001b[0mcount_files_in_folder\u001b[0m\u001b[0;34m(\u001b[0m\u001b[0mtrain_path\u001b[0m\u001b[0;34m)\u001b[0m\u001b[0;34m\u001b[0m\u001b[0;34m\u001b[0m\u001b[0m\n",
            "\u001b[0;31mNameError\u001b[0m: name 'original_folder_names' is not defined"
          ]
        }
      ],
      "source": [
        "for folder_name in original_folder_names:\n",
        "  train_path = TRAIN_DIR + f'/{folder_name}'\n",
        "  test_path = TEST_DIR + f'/{folder_name}'\n",
        "\n",
        "  train_number_files = count_files_in_folder(train_path)\n",
        "  test_number_files = count_files_in_folder(test_path)\n",
        "\n",
        "  print(f'Folder: {folder_name}, number of train images: {train_number_files}, number of test images: {test_number_files}')"
      ]
    },
    {
      "cell_type": "code",
      "execution_count": null,
      "metadata": {
        "id": "el2LL3fd4_wc"
      },
      "outputs": [],
      "source": [
        "problematic_labels = ['disgust','surprise','fear']"
      ]
    },
    {
      "cell_type": "code",
      "execution_count": null,
      "metadata": {
        "colab": {
          "base_uri": "https://localhost:8080/"
        },
        "id": "cBOK_FEl4fxR",
        "outputId": "e84171c6-1817-4114-9ec1-f670e4d3490e"
      },
      "outputs": [
        {
          "name": "stdout",
          "output_type": "stream",
          "text": [
            "Saved: 7195 images, with 2497 errors\n"
          ]
        }
      ],
      "source": [
        "divide_training_data(problematic_labels,labels,train_extension='/train_problematic',test_extension='/test_problematic')"
      ]
    },
    {
      "cell_type": "code",
      "execution_count": null,
      "metadata": {
        "colab": {
          "base_uri": "https://localhost:8080/"
        },
        "id": "CJ4Nmmke4kwf",
        "outputId": "cf541057-4daa-454e-bf08-01423ea979bf"
      },
      "outputs": [
        {
          "name": "stdout",
          "output_type": "stream",
          "text": [
            "Folder: disgust, number of train images: 1621, number of test images: 422\n",
            "Folder: surprise, number of train images: 2529, number of test images: 656\n",
            "Folder: fear, number of train images: 1595, number of test images: 372\n"
          ]
        }
      ],
      "source": [
        "for folder_name in problematic_labels:\n",
        "  train_path = '/content/train_problematic' + f'/{folder_name}'\n",
        "  test_path = '/content/test_problematic' + f'/{folder_name}'\n",
        "\n",
        "  train_number_files = count_files_in_folder(train_path)\n",
        "  test_number_files = count_files_in_folder(test_path)\n",
        "\n",
        "  print(f'Folder: {folder_name}, number of train images: {train_number_files}, number of test images: {test_number_files}')"
      ]
    },
    {
      "cell_type": "code",
      "execution_count": null,
      "metadata": {
        "id": "xFvfWqi6AhhW"
      },
      "outputs": [],
      "source": [
        "def divide_training_data_with_problematic_labels(original_folder_names: list,problematic_labels:list ,labels: pd.DataFrame,splitting_limit_percentage:int = 80, home_path: str = '/content', labels_provided: bool = True):\n",
        "\n",
        "  \"\"\"\n",
        "  Divides images in {original_folder_names} into folders with names and problematic images provided in {problematic_labels}\n",
        "  \"\"\"\n",
        "\n",
        "  train_path = home_path + '/train_with_problematic'\n",
        "  test_path = home_path + '/test_with_problematic'\n",
        "\n",
        "  if os.path.exists(train_path) == False:\n",
        "      os.mkdir(train_path)\n",
        "  if os.path.exists(test_path) == False:\n",
        "      os.mkdir(test_path)\n",
        "\n",
        "  regular_image_counter = 0\n",
        "  train_problematic_image_counter = 0\n",
        "  problematic_image_counter = 0\n",
        "  error_counter = 0\n",
        "  for folder_name in original_folder_names:\n",
        "    problematic = False\n",
        "\n",
        "    if folder_name in problematic_labels:\n",
        "      problematic = True\n",
        "\n",
        "      if os.path.exists(train_path + '/problematic') == False:\n",
        "        os.mkdir(train_path + '/problematic')\n",
        "\n",
        "      if os.path.exists(test_path + '/problematic') == False:\n",
        "        os.mkdir(test_path + '/problematic')\n",
        "\n",
        "\n",
        "\n",
        "    if not problematic:\n",
        "\n",
        "      if os.path.exists(train_path + '/' + folder_name) == False:\n",
        "        os.mkdir(train_path + '/' + folder_name)\n",
        "\n",
        "      if os.path.exists(test_path + '/' + folder_name) == False:\n",
        "        os.mkdir(test_path + '/' + folder_name)\n",
        "\n",
        "    files_in_folder = os.listdir('/content/' + folder_name)\n",
        "    number_of_files_in_folder = len(files_in_folder)\n",
        "\n",
        "    limit = int(number_of_files_in_folder / 100 * splitting_limit_percentage)\n",
        "\n",
        "    for index, file_name in enumerate(files_in_folder):\n",
        "        full_path_of_image = folder_name + '/' + file_name\n",
        "\n",
        "        #get true label from labels dataset\n",
        "        try:\n",
        "            label_of_image = labels.loc[labels['pth'] == full_path_of_image].label.item()\n",
        "\n",
        "            img = Image.open('/content/' + full_path_of_image)\n",
        "            if index <= limit:\n",
        "              if problematic:\n",
        "                img.save(train_path + '/problematic/image' + str(regular_image_counter) + file_name[-4:])\n",
        "                problematic_image_counter+=1\n",
        "                train_problematic_image_counter+=1\n",
        "                #regular_image_counter+=1\n",
        "              else:\n",
        "                img.save(train_path + '/' + label_of_image + '/image' + str(regular_image_counter) + file_name[-4:])\n",
        "                #regular_image_counter +=1\n",
        "            else:\n",
        "              if problematic:\n",
        "                img.save(test_path+ '/problematic/image' + str(regular_image_counter) + file_name[-4:])\n",
        "                problematic_image_counter+=1\n",
        "                #regular_image_counter+=1\n",
        "              else:\n",
        "                img.save(test_path + '/' + label_of_image + '/image' + str(regular_image_counter) + file_name[-4:])\n",
        "            regular_image_counter +=1\n",
        "        except:\n",
        "            error_counter +=1\n",
        "\n",
        "  print(f'Saved: {regular_image_counter} regular images,{train_problematic_image_counter} train problematic images,{problematic_image_counter} all problematic images, with {error_counter} errors')"
      ]
    },
    {
      "cell_type": "code",
      "execution_count": null,
      "metadata": {
        "colab": {
          "base_uri": "https://localhost:8080/"
        },
        "id": "drzeifZfAhcw",
        "outputId": "82affc80-8296-452c-94f8-768ce13fca7a"
      },
      "outputs": [
        {
          "name": "stdout",
          "output_type": "stream",
          "text": [
            "Saved: 23168 regular images,7430 train problematic images,9293 all problematic images, with 5874 errors\n"
          ]
        }
      ],
      "source": [
        "divide_training_data_with_problematic_labels(original_folder_names,problematic_labels,labels)"
      ]
    },
    {
      "cell_type": "code",
      "execution_count": null,
      "metadata": {
        "colab": {
          "base_uri": "https://localhost:8080/",
          "height": 35
        },
        "id": "uI9qBUPNFfMT",
        "outputId": "cea5936c-fd9d-4024-de68-afcb0a33d82b"
      },
      "outputs": [
        {
          "data": {
            "application/vnd.google.colaboratory.intrinsic+json": {
              "type": "string"
            },
            "text/plain": [
              "'/content/test_with_problematic.zip'"
            ]
          },
          "execution_count": 82,
          "metadata": {},
          "output_type": "execute_result"
        }
      ],
      "source": [
        "# make_archive(\n",
        "#   'test_with_problematic',\n",
        "#   'zip',           # the archive format - or tar, bztar, gztar\n",
        "#   root_dir='/content/test_with_problematic',   # root for archive - current working dir if None\n",
        "#   base_dir=None)   # start archiving from here - cwd if None too"
      ]
    },
    {
      "cell_type": "markdown",
      "source": [
        "SMENI GI SPREMA DIMENZIJATA NA SLIKATA\n"
      ],
      "metadata": {
        "id": "VapvWtBbG8Vn"
      }
    },
    {
      "cell_type": "code",
      "execution_count": null,
      "metadata": {
        "id": "u8Lfn_UKcgL3"
      },
      "outputs": [],
      "source": [
        "data_transform = transforms.Compose([\n",
        "     transforms.Grayscale(num_output_channels=1),\n",
        "    transforms.Resize(size=(46, 46)),\n",
        "    transforms.ToTensor(),\n",
        "    transforms.Normalize((0.5), (0.5))\n",
        "    # transforms.RandomHorizontalFlip(),\n",
        "    # transforms.RandomVerticalFlip(),\n",
        "    # transforms.RandomRotation(30)\n",
        "])"
      ]
    },
    {
      "cell_type": "code",
      "execution_count": null,
      "metadata": {
        "id": "AYKzufp_MvGJ"
      },
      "outputs": [],
      "source": [
        "train_dataset = datasets.ImageFolder(root = TRAIN_DIR,target_transform=None,transform = data_transform)"
      ]
    },
    {
      "cell_type": "code",
      "execution_count": null,
      "metadata": {
        "id": "8VucWoWFctiu"
      },
      "outputs": [],
      "source": [
        "class_names = train_dataset.classes"
      ]
    },
    {
      "cell_type": "code",
      "execution_count": null,
      "metadata": {
        "colab": {
          "base_uri": "https://localhost:8080/"
        },
        "id": "0zftPkdVc6A6",
        "outputId": "7a5d4eb5-0425-4d04-b8ee-cee98560979a"
      },
      "outputs": [
        {
          "output_type": "execute_result",
          "data": {
            "text/plain": [
              "7"
            ]
          },
          "metadata": {},
          "execution_count": 18
        }
      ],
      "source": [
        "len(class_names)"
      ]
    },
    {
      "cell_type": "code",
      "execution_count": null,
      "metadata": {
        "id": "3cXXJdCQc7Iq"
      },
      "outputs": [],
      "source": [
        "test_dataset = datasets.ImageFolder(root = TEST_DIR, transform = data_transform, target_transform=None)"
      ]
    },
    {
      "cell_type": "code",
      "execution_count": null,
      "metadata": {
        "colab": {
          "base_uri": "https://localhost:8080/",
          "height": 431
        },
        "id": "hN2xggYenr15",
        "outputId": "a4ba5913-525c-4346-a220-93599dfc51de"
      },
      "outputs": [
        {
          "output_type": "display_data",
          "data": {
            "text/plain": [
              "<Figure size 640x480 with 1 Axes>"
            ],
            "image/png": "[encoded data removed]"
          },
          "metadata": {}
        }
      ],
      "source": [
        "plt.imshow(train_dataset[0][0].numpy()[0],cmap = 'gray')\n",
        "plt.show()"
      ]
    },
    {
      "cell_type": "code",
      "execution_count": null,
      "metadata": {
        "colab": {
          "base_uri": "https://localhost:8080/"
        },
        "id": "jpu3cES0dOGw",
        "outputId": "6c9e42e7-4fb7-4c56-d094-c97fdc63940d"
      },
      "outputs": [
        {
          "output_type": "execute_result",
          "data": {
            "text/plain": [
              "(28709, 7178)"
            ]
          },
          "metadata": {},
          "execution_count": 21
        }
      ],
      "source": [
        "len(train_dataset),len(test_dataset)"
      ]
    },
    {
      "cell_type": "code",
      "execution_count": null,
      "metadata": {
        "colab": {
          "base_uri": "https://localhost:8080/"
        },
        "id": "dtG8WS3fM0G7",
        "outputId": "3d58a237-8581-4a60-95ca-051971735f31"
      },
      "outputs": [
        {
          "output_type": "execute_result",
          "data": {
            "text/plain": [
              "2"
            ]
          },
          "metadata": {},
          "execution_count": 22
        }
      ],
      "source": [
        "num_of_workers = os.cpu_count()\n",
        "num_of_workers"
      ]
    },
    {
      "cell_type": "code",
      "execution_count": null,
      "metadata": {
        "id": "V0h4478SMeDn"
      },
      "outputs": [],
      "source": [
        "train_dataloader = DataLoader(dataset = train_dataset,\n",
        "                              batch_size = 32,\n",
        "                              num_workers=num_of_workers,\n",
        "                              shuffle = True)\n",
        "\n",
        "test_dataloader = DataLoader(dataset = test_dataset,\n",
        "                              batch_size = 32,\n",
        "                              num_workers=num_of_workers,\n",
        "                              shuffle = True)\n"
      ]
    },
    {
      "cell_type": "code",
      "execution_count": null,
      "metadata": {
        "colab": {
          "base_uri": "https://localhost:8080/"
        },
        "id": "c7cbofAONBq-",
        "outputId": "41a2952f-1854-4114-d2be-9b2dc40fb812"
      },
      "outputs": [
        {
          "output_type": "execute_result",
          "data": {
            "text/plain": [
              "898"
            ]
          },
          "metadata": {},
          "execution_count": 24
        }
      ],
      "source": [
        "len(train_dataloader)"
      ]
    },
    {
      "cell_type": "code",
      "execution_count": null,
      "metadata": {
        "id": "Aw1ORNcMO-2o"
      },
      "outputs": [],
      "source": [
        "class ResidualBlock(nn.Module):\n",
        "  def __init__(self, in_channels, hidden_units, stride = 1, downsample = None) -> None:\n",
        "    super().__init__()\n",
        "\n",
        "    self.first_conv_block = nn.Sequential(\n",
        "        nn.Conv2d(in_channels=in_channels, out_channels=hidden_units, kernel_size = 3, stride = stride, padding = 1),\n",
        "        nn.Dropout(0.25),\n",
        "        nn.BatchNorm2d(hidden_units),\n",
        "        nn.ReLU()\n",
        "    )\n",
        "\n",
        "    self.second_conv_block = nn.Sequential(\n",
        "        nn.Conv2d(in_channels=hidden_units, out_channels = hidden_units, kernel_size = 3, padding =1 ,stride = 1 ),\n",
        "        nn.BatchNorm2d(hidden_units)\n",
        "    )\n",
        "\n",
        "    self.relu = nn.ReLU()\n",
        "\n",
        "    self.downsample = downsample\n",
        "\n",
        "  def forward(self, x : torch.Tensor) -> torch.Tensor:\n",
        "\n",
        "    # make data copy\n",
        "    input = x\n",
        "\n",
        "    x = self.first_conv_block(x)\n",
        "    x = self.second_conv_block(x)\n",
        "\n",
        "    if self.downsample:\n",
        "\n",
        "      # transform residual if activ. function is added\n",
        "      input = self.downsample(input)\n",
        "\n",
        "    # add residual to conv blocks\n",
        "\n",
        "    x+=input\n",
        "\n",
        "    x = self.relu(x)\n",
        "    return x"
      ]
    },
    {
      "cell_type": "code",
      "execution_count": null,
      "metadata": {
        "id": "nP-V9InkO-mL"
      },
      "outputs": [],
      "source": [
        "class ResNet(nn.Module):\n",
        "\n",
        "  def __init__(self,input_shape: int,block_type : nn.Module, layer_sizes: list, num_of_classes: int = 9, inplanes: int = 64 ) -> None:\n",
        "    super().__init__()\n",
        "\n",
        "    self.inplanes = inplanes\n",
        "\n",
        "    self.first_conv = nn.Sequential(\n",
        "        nn.Conv2d(in_channels=input_shape,out_channels = inplanes, kernel_size= 7, stride = 2),\n",
        "        nn.Dropout(0.25),\n",
        "        nn.BatchNorm2d(inplanes),\n",
        "        nn.ReLU()\n",
        "    )\n",
        "\n",
        "    self.maxpool = nn.MaxPool2d(kernel_size = 3, stride = 2, padding = 1)\n",
        "    self.avgpool = nn.AvgPool2d(2, stride=1)\n",
        "\n",
        "    self.layer1 = self._build_block(block_type, inplanes, layer_sizes[0], False, stride =1)\n",
        "    self.layer2 = self._build_block(block_type, 128, layer_sizes[1], True, stride=2)\n",
        "    self.layer3 = self._build_block(block_type, 256, layer_sizes[2], True, stride = 2)\n",
        "    self.layer4 = self._build_block(block_type, 512, layer_sizes[3], True, stride = 2)\n",
        "\n",
        "    self.output_layer =nn.Sequential(\n",
        "        nn.Flatten(),\n",
        "        nn.Linear(in_features=512,out_features = num_of_classes),\n",
        "    )\n",
        "\n",
        "    self.dropout1 = nn.Dropout(0.25)\n",
        "    self.dropout2 = nn.Dropout(0.5)\n",
        "\n",
        "  def _build_block(self,block_type: nn.Module, out_planes:int, num_of_blocks:int,contain_downsample:bool = False, stride:int =1) -> nn.Module:\n",
        "\n",
        "    downsample = None\n",
        "\n",
        "    # if residual should go through function\n",
        "    if stride != 1 or self.inplanes != out_planes:\n",
        "      downsample = nn.Sequential(\n",
        "                nn.Conv2d(self.inplanes, out_planes, kernel_size=1, stride=stride),\n",
        "                nn.BatchNorm2d(out_planes),\n",
        "            )\n",
        "\n",
        "    # layers of residual block will be added here\n",
        "    layers = []\n",
        "\n",
        "    # first layer with input size = to output of previous layer\n",
        "    layers.append(block_type(self.inplanes, out_planes, stride, downsample))\n",
        "    # change to output\n",
        "    self.inplanes = out_planes\n",
        "\n",
        "    # add remaining layers\n",
        "    for i in range(1,num_of_blocks):\n",
        "      layers.append(block_type(self.inplanes,out_planes))\n",
        "\n",
        "    return nn.Sequential(*layers)\n",
        "\n",
        "\n",
        "  def forward(self,x):\n",
        "\n",
        "    x = self.first_conv(x)\n",
        "    x = self.maxpool(x)\n",
        "   #print(x)\n",
        "    x = self.layer1(x)\n",
        "    x = self.dropout1(x)\n",
        "    x = self.layer2(x)\n",
        "    x = self.dropout1(x)\n",
        "    x = self.layer3(x)\n",
        "    x = self.dropout1(x)\n",
        "    x = self.layer4(x)\n",
        "    #x = self.dropout1(x)\n",
        "    x = self.avgpool(x)\n",
        "\n",
        "    #x = x.view(x.size(0), -1)\n",
        "    x = self.output_layer(x)\n",
        "    return x"
      ]
    },
    {
      "cell_type": "code",
      "execution_count": null,
      "metadata": {
        "id": "ERYJ9S4wNDiy"
      },
      "outputs": [],
      "source": [
        "class TinyVGG(nn.Module):\n",
        "\n",
        "  \"\"\"\n",
        "  Architecture replicates TinyVGG.\n",
        "\n",
        "  CNN Model used to classify emotions from images of human faces.\n",
        "  Input params:\n",
        "  input_shape = shape of input (color channels)\n",
        "  number_of_hidden_units = the number of hidden units for the model\n",
        "  output_shape = number of classes that the model can predict\n",
        "  \"\"\"\n",
        "\n",
        "  def __init__(self, input_shape: int, hidden_units: int ,output_shape: int) -> None:\n",
        "    super().__init__()\n",
        "\n",
        "    self.first_block = nn.Sequential(\n",
        "      nn.Conv2d(in_channels=input_shape, out_channels=hidden_units, kernel_size=3,padding=2,stride = 1),\n",
        "      nn.ReLU(),\n",
        "      nn.Conv2d(in_channels = hidden_units, out_channels = hidden_units, kernel_size=3,padding=2,stride = 1),\n",
        "      nn.ReLU(),\n",
        "      nn.MaxPool2d(kernel_size= 3, padding = 1),\n",
        "      nn.Dropout(0.25)\n",
        "    )\n",
        "\n",
        "\n",
        "    self.second_block = nn.Sequential(\n",
        "        nn.Conv2d(in_channels = hidden_units, out_channels = hidden_units, kernel_size=3,padding=1,stride = 1),\n",
        "        nn.ReLU(),\n",
        "        nn.Dropout(0.5),\n",
        "        nn.Conv2d(in_channels = hidden_units, out_channels = hidden_units, kernel_size=3,padding=1,stride = 1),\n",
        "        nn.ReLU(),\n",
        "        nn.MaxPool2d(kernel_size= 3, padding = 1),\n",
        "        nn.Dropout(0.25)\n",
        "        )\n",
        "\n",
        "    self.third_block = nn.Sequential(\n",
        "        nn.Conv2d(in_channels = hidden_units, out_channels = hidden_units, kernel_size=4,padding=1,stride = 1),\n",
        "        nn.ReLU(),\n",
        "        nn.Dropout(0.25),\n",
        "        nn.Conv2d(in_channels = hidden_units, out_channels = hidden_units, kernel_size=4,padding=1,stride = 1),\n",
        "        nn.ReLU(),\n",
        "        nn.MaxPool2d(kernel_size= 3, padding = 1),\n",
        "        nn.Dropout(0.25)\n",
        "    )\n",
        "\n",
        "    self.fourth_block = nn.Sequential(\n",
        "        nn.Conv2d(in_channels = hidden_units, out_channels = hidden_units, kernel_size=3,padding=1,stride = 1),\n",
        "        nn.ReLU(),\n",
        "        nn.Dropout(0.5),\n",
        "        nn.Conv2d(in_channels = hidden_units, out_channels = hidden_units, kernel_size=3,padding=1,stride = 1),\n",
        "        nn.ReLU(),\n",
        "        nn.MaxPool2d(kernel_size= 2, padding = 1)\n",
        "    )\n",
        "\n",
        "    self.classification_block = nn.Sequential(\n",
        "        nn.Flatten(),\n",
        "        nn.Linear(in_features=hidden_units*4*4,out_features = 128),\n",
        "        nn.Dropout(0.25),\n",
        "        nn.Linear(in_features=128,out_features = 64),\n",
        "        nn.Linear(in_features=64,out_features = output_shape)\n",
        "    )\n",
        "\n",
        "  def forward(self, x):\n",
        "    x  = self.first_block(x)\n",
        "    x = self.second_block(x)\n",
        "    #print(x.shape)\n",
        "    x = self.third_block(x)\n",
        "    #x = self.fourth_block(x)\n",
        "    x = self.classification_block(x)\n",
        "    #print(x.shape)\n",
        "    return x"
      ]
    },
    {
      "cell_type": "code",
      "execution_count": null,
      "metadata": {
        "id": "4ZapYow3VUOO"
      },
      "outputs": [],
      "source": [
        "#model = TinyVGG(1,64,len(class_names)).to(device)"
      ]
    },
    {
      "cell_type": "code",
      "execution_count": null,
      "metadata": {
        "id": "_YiicWa8dakm"
      },
      "outputs": [],
      "source": [
        "model = ResNet(1,ResidualBlock, layer_sizes = [3, 4, 6, 3], num_of_classes=len(class_names),inplanes = 64).to(device)"
      ]
    },
    {
      "cell_type": "code",
      "execution_count": null,
      "metadata": {
        "colab": {
          "base_uri": "https://localhost:8080/"
        },
        "id": "6qkuIyovttCg",
        "outputId": "8d64f19a-b33f-47be-ce02-0bae3f9ee7f9"
      },
      "outputs": [
        {
          "output_type": "stream",
          "name": "stdout",
          "text": [
            "torch.Size([1, 1, 46, 46])\n"
          ]
        }
      ],
      "source": [
        "torch.manual_seed(42)\n",
        "img, label = next(iter(train_dataloader))\n",
        "print(f'{img[0].unsqueeze(dim=1).shape}'), label[0]\n",
        "#print(img[0])\n",
        "\n",
        "model.eval()\n",
        "with torch.inference_mode():\n",
        "  prediction = model(img[0].unsqueeze(dim=1).to(device))"
      ]
    },
    {
      "cell_type": "code",
      "execution_count": null,
      "metadata": {
        "colab": {
          "base_uri": "https://localhost:8080/"
        },
        "id": "aiTL-W5qAzry",
        "outputId": "5c7a8fa8-3df7-44d3-ef7b-e409e8472e8c"
      },
      "outputs": [
        {
          "output_type": "execute_result",
          "data": {
            "text/plain": [
              "(torch.Size([1, 1, 46, 46]), tensor(3))"
            ]
          },
          "metadata": {},
          "execution_count": 36
        }
      ],
      "source": [
        "img[0].unsqueeze(dim=1).shape, label[0]"
      ]
    },
    {
      "cell_type": "code",
      "execution_count": null,
      "metadata": {
        "colab": {
          "base_uri": "https://localhost:8080/"
        },
        "id": "4buv2a-9l3V-",
        "outputId": "6e282f27-9c8e-43ef-93ae-82582208da9a"
      },
      "outputs": [
        {
          "output_type": "execute_result",
          "data": {
            "text/plain": [
              "(tensor([-7.2492e-02, -1.0302e-02, -3.9303e-02,  3.7664e-02, -7.4627e-02,\n",
              "          9.7684e-03,  2.8664e-05], device='cuda:0'),\n",
              " tensor(3))"
            ]
          },
          "metadata": {},
          "execution_count": 37
        }
      ],
      "source": [
        "prediction[0], label[0]"
      ]
    },
    {
      "cell_type": "code",
      "execution_count": null,
      "metadata": {
        "colab": {
          "base_uri": "https://localhost:8080/"
        },
        "id": "iP_kwZHluTa2",
        "outputId": "0ccf6f83-c187-454c-8f82-eb45c0b27be7"
      },
      "outputs": [
        {
          "data": {
            "text/plain": [
              "tensor(0, device='cuda:0')"
            ]
          },
          "execution_count": 58,
          "metadata": {},
          "output_type": "execute_result"
        }
      ],
      "source": [
        "prediction[0].argmax(dim=0)"
      ]
    },
    {
      "cell_type": "code",
      "execution_count": null,
      "metadata": {
        "id": "KMhm_YfYOdQC"
      },
      "outputs": [],
      "source": [
        "loss_function = nn.CrossEntropyLoss()"
      ]
    },
    {
      "cell_type": "code",
      "execution_count": null,
      "metadata": {
        "id": "zTOSjt1yOdM-"
      },
      "outputs": [],
      "source": [
        "optimizer = torch.optim.Adam(params = model.parameters(), lr = 0.0001)\n",
        "#scheduler = lr_scheduler.LinearLR(optimizer, start_factor=1, end_factor=0.0001, total_iters=15)"
      ]
    },
    {
      "cell_type": "code",
      "execution_count": null,
      "metadata": {
        "id": "7u6J1uoOOdKl"
      },
      "outputs": [],
      "source": [
        "from tqdm.auto import tqdm"
      ]
    },
    {
      "cell_type": "code",
      "execution_count": null,
      "metadata": {
        "id": "i895E9bbX7hr"
      },
      "outputs": [],
      "source": [
        "def train_model(model: torch.nn.Module, train_dataloader: torch.utils.data.DataLoader,\n",
        "                loss_function: torch.nn.Module, optimizer: torch.optim.Optimizer ,device: str = 'cpu') -> int:\n",
        "\n",
        "\n",
        "  \"\"\"\n",
        "  Defines one step of model training\n",
        "\n",
        "  return avg. epoch loss\n",
        "  \"\"\"\n",
        "\n",
        "  epoch_loss = 0\n",
        "\n",
        "  model.to(device)\n",
        "\n",
        "  model.train()\n",
        "\n",
        "  for batch, (X,y) in enumerate(train_dataloader):\n",
        "\n",
        "    X = X.to(device)\n",
        "    Y = y.to(device)\n",
        "\n",
        "    predictions = model(X)\n",
        "\n",
        "    loss = loss_function(predictions,Y)\n",
        "\n",
        "    epoch_loss += loss\n",
        "\n",
        "    optimizer.zero_grad()\n",
        "\n",
        "    loss.backward()\n",
        "\n",
        "    optimizer.step()\n",
        "\n",
        "\n",
        "  epoch_loss /= len(train_dataloader)\n",
        "  print(f'Avg. loss for epoch: {epoch_loss}')\n",
        "  #print(model.state_dict())\n",
        "  return epoch_loss\n"
      ]
    },
    {
      "cell_type": "code",
      "execution_count": null,
      "metadata": {
        "id": "V07e3pESevcS"
      },
      "outputs": [],
      "source": [
        "def test_model(model: torch.nn.Module, test_dataloader: torch.utils.data.DataLoader,\n",
        "                loss_function: torch.nn.Module, metric = None,device: str = 'cpu'):\n",
        "\n",
        "  \"\"\"\n",
        "  Performs one step of testing on model\n",
        "\n",
        "  returns: avg. test_loss, avg. evaluation metric\n",
        "  \"\"\"\n",
        "\n",
        "  model.to(device)\n",
        "\n",
        "  test_loss,metric_loss = 0,0\n",
        "\n",
        "  model.eval()\n",
        "  with torch.inference_mode():\n",
        "\n",
        "    for X,Y in test_dataloader:\n",
        "\n",
        "      X = X.to(device)\n",
        "      Y = Y.to(device)\n",
        "\n",
        "      predictions = model(X)\n",
        "\n",
        "      loss = loss_function(predictions,Y)\n",
        "\n",
        "      test_loss += loss\n",
        "\n",
        "      # if metric is not None:\n",
        "      #   metric = metric(y_pred = predictions.cpu().argmax(dim=1), y_true = Y.cpu())\n",
        "      #   metric_loss += metric\n",
        "\n",
        "    # if metric is not None:\n",
        "    #   metric_loss /= len(test_dataloader)\n",
        "    test_loss /= len(test_dataloader)\n",
        "\n",
        "  print(f'Avg. test loss: {test_loss}, avg. evaluation metric: {metric_loss if metric is not None else 0}')\n",
        "\n",
        "  return test_loss,metric_loss\n"
      ]
    },
    {
      "cell_type": "code",
      "execution_count": null,
      "metadata": {
        "id": "ZwHBGpbEXnk7"
      },
      "outputs": [],
      "source": [
        "def train_for_epochs(model: torch.nn.Module, train_dataloader: torch.utils.data.DataLoader,\n",
        "                     test_dataloader: torch.utils.data.DataLoader,\n",
        "                      loss_function: torch.nn.Module,\n",
        "                     optimizer: torch.optim.Optimizer,\n",
        "                     scheduler,\n",
        "                     epochs: int = 3, metric = None,device: str = 'cpu'):\n",
        "\n",
        "  \"\"\"\n",
        "  Performs model training and testing for multiple epochs\n",
        "  \"\"\"\n",
        "  for epoch in tqdm(range(epochs)):\n",
        "    print(f'Epoch: {epoch}\\n')\n",
        "    train_model(model,train_dataloader,loss_function,optimizer,device)\n",
        "    test_model(model,test_dataloader,loss_function,metric,device)\n",
        "    print(f'Lr: {optimizer.param_groups[0][\"lr\"]}')\n",
        "    #scheduler.step()"
      ]
    },
    {
      "cell_type": "code",
      "execution_count": null,
      "metadata": {
        "id": "KfGZELrdYIy2"
      },
      "outputs": [],
      "source": [
        "from sklearn.metrics import r2_score"
      ]
    },
    {
      "cell_type": "code",
      "execution_count": null,
      "metadata": {
        "colab": {
          "base_uri": "https://localhost:8080/",
          "height": 35
        },
        "id": "1E7ojJSsRHp_",
        "outputId": "e91310ac-0c68-4330-c7e7-7ff9aa365d6a"
      },
      "outputs": [
        {
          "output_type": "execute_result",
          "data": {
            "text/plain": [
              "'cuda'"
            ],
            "application/vnd.google.colaboratory.intrinsic+json": {
              "type": "string"
            }
          },
          "metadata": {},
          "execution_count": 45
        }
      ],
      "source": [
        "device"
      ]
    },
    {
      "cell_type": "code",
      "execution_count": null,
      "metadata": {
        "id": "fv7UnTREkTY_"
      },
      "outputs": [],
      "source": [
        "# posle 25 epohi zaglavuva na 1.3 so 1.4-1.5\n",
        "# go pustiv i do 35 epohi isto e"
      ]
    },
    {
      "cell_type": "code",
      "execution_count": null,
      "metadata": {
        "colab": {
          "base_uri": "https://localhost:8080/",
          "height": 951,
          "referenced_widgets": [
            "7f18c6cf40ba4300888d8b048892cb9e",
            "e66883b2f53f4d1cbbc46976e1958c8a",
            "ac1bec6c8258412b8b94dcb35ea40dc7",
            "8d4bf1fc74034fb6a941b06d52d3f390",
            "8025be922b0f43288566b7fce4cf51db",
            "a7e0be3a22ad4c35af465ba76f29fd65",
            "e6ff245129d749d69698dd0bd922688e",
            "f764d004c25642cf9524cb68adbbf5ae",
            "4abcf2af6e21450a983ba727aa5f5435",
            "bf11f6b2e47d4869a87f49337e7c1bbe",
            "e6eb027b5b0b47f3a5b114aaeb8962d8"
          ]
        },
        "id": "JnxH5oNYYLgm",
        "outputId": "dd1c0f73-3f50-476d-f7b0-aab1aa5482cf"
      },
      "outputs": [
        {
          "output_type": "display_data",
          "data": {
            "text/plain": [
              "  0%|          | 0/15 [00:00<?, ?it/s]"
            ],
            "application/vnd.jupyter.widget-view+json": {
              "version_major": 2,
              "version_minor": 0,
              "model_id": "7f18c6cf40ba4300888d8b048892cb9e"
            }
          },
          "metadata": {}
        },
        {
          "output_type": "stream",
          "name": "stdout",
          "text": [
            "Epoch: 0\n",
            "\n",
            "Avg. loss for epoch: 1.2950201034545898\n",
            "Avg. test loss: 1.3347123861312866, avg. evaluation metric: 0\n",
            "Lr: 0.0001\n",
            "Epoch: 1\n",
            "\n",
            "Avg. loss for epoch: 1.2366961240768433\n",
            "Avg. test loss: 1.2958571910858154, avg. evaluation metric: 0\n",
            "Lr: 0.0001\n",
            "Epoch: 2\n",
            "\n",
            "Avg. loss for epoch: 1.180493950843811\n",
            "Avg. test loss: 1.3168383836746216, avg. evaluation metric: 0\n",
            "Lr: 0.0001\n",
            "Epoch: 3\n",
            "\n",
            "Avg. loss for epoch: 1.1237423419952393\n",
            "Avg. test loss: 1.2682899236679077, avg. evaluation metric: 0\n",
            "Lr: 0.0001\n",
            "Epoch: 4\n",
            "\n",
            "Avg. loss for epoch: 1.0753729343414307\n",
            "Avg. test loss: 1.2435641288757324, avg. evaluation metric: 0\n",
            "Lr: 0.0001\n",
            "Epoch: 5\n",
            "\n",
            "Avg. loss for epoch: 1.1788692474365234\n",
            "Avg. test loss: 1.226022481918335, avg. evaluation metric: 0\n",
            "Lr: 0.0001\n",
            "Epoch: 6\n",
            "\n",
            "Avg. loss for epoch: 1.14689040184021\n",
            "Avg. test loss: 1.185959815979004, avg. evaluation metric: 0\n",
            "Lr: 0.0001\n",
            "Epoch: 7\n",
            "\n",
            "Avg. loss for epoch: 1.12855064868927\n",
            "Avg. test loss: 1.209346055984497, avg. evaluation metric: 0\n",
            "Lr: 0.0001\n",
            "Epoch: 8\n",
            "\n",
            "Avg. loss for epoch: 1.1040476560592651\n",
            "Avg. test loss: 1.1814005374908447, avg. evaluation metric: 0\n",
            "Lr: 0.0001\n",
            "Epoch: 9\n",
            "\n",
            "Avg. loss for epoch: 1.0772417783737183\n",
            "Avg. test loss: 1.2027416229248047, avg. evaluation metric: 0\n",
            "Lr: 0.0001\n",
            "Epoch: 10\n",
            "\n"
          ]
        }
      ],
      "source": [
        "torch.manual_seed(42)\n",
        "torch.cuda.manual_seed(42)\n",
        "\n",
        "train_for_epochs(model,train_dataloader,test_dataloader,loss_function,optimizer,None,15,r2_score,device)"
      ]
    },
    {
      "cell_type": "code",
      "execution_count": null,
      "metadata": {
        "id": "BOs2PEd8j7CH"
      },
      "outputs": [],
      "source": [
        "preds = list()\n",
        "actual = list()\n",
        "model.eval()\n",
        "with torch.inference_mode():\n",
        "\n",
        "    for X,Y in test_dataloader:\n",
        "\n",
        "      X = X.to(device)\n",
        "      Y = Y.to(device)\n",
        "      predictions = model(X)\n",
        "      predictions = predictions.to('cpu')\n",
        "      for i in range(len(predictions)):\n",
        "\n",
        "        preds.append(predictions[i].argmax(dim=0))\n",
        "        actual.append(Y[i].cpu())"
      ]
    },
    {
      "cell_type": "code",
      "execution_count": null,
      "metadata": {
        "colab": {
          "base_uri": "https://localhost:8080/"
        },
        "id": "5uTJ7NBWmSO0",
        "outputId": "6d0fe6f9-4c41-4a99-8af1-393d4126f70a"
      },
      "outputs": [
        {
          "data": {
            "text/plain": [
              "([tensor(0), tensor(0), tensor(1), tensor(0), tensor(2)],\n",
              " [tensor(2), tensor(0), tensor(2), tensor(7), tensor(0)])"
            ]
          },
          "execution_count": 86,
          "metadata": {},
          "output_type": "execute_result"
        }
      ],
      "source": [
        "actual[:5],preds[:5]"
      ]
    },
    {
      "cell_type": "code",
      "execution_count": null,
      "metadata": {
        "id": "1J9R5bdXf2gA"
      },
      "outputs": [],
      "source": [
        "from sklearn.metrics import confusion_matrix,ConfusionMatrixDisplay"
      ]
    },
    {
      "cell_type": "code",
      "execution_count": null,
      "metadata": {
        "id": "-O3XJnYFnFHH"
      },
      "outputs": [],
      "source": [
        "import matplotlib.pyplot as plt"
      ]
    },
    {
      "cell_type": "code",
      "execution_count": null,
      "metadata": {
        "colab": {
          "base_uri": "https://localhost:8080/"
        },
        "id": "8YVCUom-pRmb",
        "outputId": "a5b024bd-4c8e-4683-c4c1-7e9165280743"
      },
      "outputs": [
        {
          "data": {
            "text/plain": [
              "8"
            ]
          },
          "execution_count": 92,
          "metadata": {},
          "output_type": "execute_result"
        }
      ],
      "source": [
        "len(class_names)"
      ]
    },
    {
      "cell_type": "code",
      "execution_count": null,
      "metadata": {
        "colab": {
          "base_uri": "https://localhost:8080/",
          "height": 449
        },
        "id": "0pEWPuEenFEi",
        "outputId": "7e6e5d06-5e23-4f1e-9611-e61d1366a36e"
      },
      "outputs": [
        {
          "data": {
            "image/png": "[encoded data removed]",
            "text/plain": [
              "<Figure size 640x480 with 2 Axes>"
            ]
          },
          "metadata": {},
          "output_type": "display_data"
        }
      ],
      "source": [
        "cm = confusion_matrix(actual, preds, labels=[0,1,2,3,4,5,6,7])\n",
        "disp = ConfusionMatrixDisplay(confusion_matrix=cm,\n",
        "                              display_labels=class_names)\n",
        "disp.plot()\n",
        "plt.show()"
      ]
    },
    {
      "cell_type": "code",
      "execution_count": null,
      "metadata": {
        "colab": {
          "base_uri": "https://localhost:8080/"
        },
        "id": "QjU46bbWyfj3",
        "outputId": "75630288-e39c-4dea-db37-b0986287bcf0"
      },
      "outputs": [
        {
          "output_type": "execute_result",
          "data": {
            "text/plain": [
              "2"
            ]
          },
          "metadata": {},
          "execution_count": 17
        }
      ],
      "source": [
        "num_of_workers = os.cpu_count()\n",
        "num_of_workers"
      ]
    },
    {
      "cell_type": "code",
      "source": [
        "data_transform = transforms.Compose([\n",
        "     transforms.Grayscale(num_output_channels=1),\n",
        "    transforms.Resize(size=(96, 96)),\n",
        "    transforms.ToTensor(),\n",
        "    transforms.Normalize((0.5), (0.5)),\n",
        "    transforms.RandomHorizontalFlip(),\n",
        "    transforms.RandomVerticalFlip(),\n",
        "    transforms.RandomRotation(30)\n",
        "])"
      ],
      "metadata": {
        "id": "Y9hdX1NcTk8X"
      },
      "execution_count": null,
      "outputs": []
    },
    {
      "cell_type": "code",
      "execution_count": null,
      "metadata": {
        "id": "7DBrEbT1yt80"
      },
      "outputs": [],
      "source": [
        "TRAIN_PROBLEMATIC = '/content/train_problematic'\n",
        "TRAIN_WITH_PROBLEMATIC = '/content/train_with_problematic'\n",
        "TEST_PROBLEMATIC = '/content/test_problematic'\n",
        "TEST_WITH_PROBLEMATIC = '/content/test_with_problematic'"
      ]
    },
    {
      "cell_type": "code",
      "execution_count": null,
      "metadata": {
        "id": "r3sqx5ZcyKm_"
      },
      "outputs": [],
      "source": [
        "train_problematic_dataset = datasets.ImageFolder(root = TRAIN_PROBLEMATIC,target_transform=None,transform = data_transform)\n",
        "test_problematic_dataset = datasets.ImageFolder(root = TEST_PROBLEMATIC,target_transform=None,transform = data_transform)\n",
        "train_with_problematic_dataset = datasets.ImageFolder(root = TRAIN_WITH_PROBLEMATIC,target_transform=None,transform = data_transform)\n",
        "test_with_problematic_dataset = datasets.ImageFolder(root = TEST_WITH_PROBLEMATIC,target_transform=None,transform = data_transform)"
      ]
    },
    {
      "cell_type": "markdown",
      "source": [],
      "metadata": {
        "id": "GrFAKCVFTsYT"
      }
    },
    {
      "cell_type": "code",
      "execution_count": null,
      "metadata": {
        "id": "SIlRY8yjyKkZ"
      },
      "outputs": [],
      "source": [
        "train_with_problematic_dataloader = DataLoader(dataset = train_with_problematic_dataset,\n",
        "                              batch_size = 32,\n",
        "                              num_workers=num_of_workers,\n",
        "                              shuffle = True)\n",
        "\n",
        "test_with_problematic_dataloader = DataLoader(dataset = test_with_problematic_dataset,\n",
        "                              batch_size = 32,\n",
        "                              num_workers=num_of_workers,\n",
        "                              shuffle = True)\n",
        "\n",
        "train_problematic_dataloader = DataLoader(dataset = train_problematic_dataset,\n",
        "                              batch_size = 32,\n",
        "                              num_workers=num_of_workers,\n",
        "                              shuffle = True)\n",
        "\n",
        "test_problematic_dataloader = DataLoader(dataset = test_problematic_dataset,\n",
        "                              batch_size = 32,\n",
        "                              num_workers=num_of_workers,\n",
        "                              shuffle = True)\n"
      ]
    },
    {
      "cell_type": "code",
      "execution_count": null,
      "metadata": {
        "id": "RClXjkD2yKfl"
      },
      "outputs": [],
      "source": [
        "class_names_with_problematic = train_with_problematic_dataset.classes"
      ]
    },
    {
      "cell_type": "code",
      "execution_count": null,
      "metadata": {
        "id": "Q6cwrrgPyKdK"
      },
      "outputs": [],
      "source": [
        "model_with_problematic = TinyVGG(1,64,len(class_names_with_problematic)).to(device)"
      ]
    },
    {
      "cell_type": "code",
      "execution_count": null,
      "metadata": {
        "id": "HHdTNSzvyKYM"
      },
      "outputs": [],
      "source": [
        "loss_function = nn.CrossEntropyLoss()\n",
        "optimizer = torch.optim.Adam(params = model_with_problematic.parameters(), lr = 0.00001)"
      ]
    },
    {
      "cell_type": "code",
      "execution_count": null,
      "metadata": {
        "id": "eBXtbV8IyKV6",
        "colab": {
          "base_uri": "https://localhost:8080/",
          "height": 1000,
          "referenced_widgets": [
            "8efad1fb1f7e41caab8d31307603d8f8",
            "10c6a5b082cd4fedace4df61f7b4d0b7",
            "b007b06fe733427c9e405f14ac0c17fe",
            "0fcba9af5fd849908e71aba979cb8d09",
            "03752e868a8c4dfbaf06627234242775",
            "8a0a71620d9c4d1781d7f5c93df1b9e1",
            "70a6695df6574fc8a9b6c40f13880e8c",
            "8d0ac170d3d74f58bd795e8ec729aba1",
            "4e6fb36c7aaf47d08967347b4a3b6457",
            "7a01d4a138114022a1a4a466c7026206",
            "ec49b562e7104d2b8ad308f281df2252"
          ]
        },
        "outputId": "d793d50f-17ab-46a3-bfaf-beb3517d2de5"
      },
      "outputs": [
        {
          "output_type": "display_data",
          "data": {
            "text/plain": [
              "  0%|          | 0/15 [00:00<?, ?it/s]"
            ],
            "application/vnd.jupyter.widget-view+json": {
              "version_major": 2,
              "version_minor": 0,
              "model_id": "8efad1fb1f7e41caab8d31307603d8f8"
            }
          },
          "metadata": {}
        },
        {
          "output_type": "stream",
          "name": "stdout",
          "text": [
            "Epoch: 0\n",
            "\n",
            "Avg. loss for epoch: 0.6634501814842224\n",
            "Avg. test loss: 0.7220209240913391, avg. evaluation metric: 0\n",
            "Lr: 1e-05\n",
            "Epoch: 1\n",
            "\n",
            "Avg. loss for epoch: 0.6535312533378601\n",
            "Avg. test loss: 0.7152283787727356, avg. evaluation metric: 0\n",
            "Lr: 1e-05\n",
            "Epoch: 2\n",
            "\n",
            "Avg. loss for epoch: 0.6421957612037659\n",
            "Avg. test loss: 0.7176881432533264, avg. evaluation metric: 0\n",
            "Lr: 1e-05\n",
            "Epoch: 3\n",
            "\n",
            "Avg. loss for epoch: 0.6362034678459167\n",
            "Avg. test loss: 0.7165955901145935, avg. evaluation metric: 0\n",
            "Lr: 1e-05\n",
            "Epoch: 4\n",
            "\n",
            "Avg. loss for epoch: 0.6210834980010986\n",
            "Avg. test loss: 0.7226920127868652, avg. evaluation metric: 0\n",
            "Lr: 1e-05\n",
            "Epoch: 5\n",
            "\n",
            "Avg. loss for epoch: 0.6395687460899353\n",
            "Avg. test loss: 0.7136147618293762, avg. evaluation metric: 0\n",
            "Lr: 1e-05\n",
            "Epoch: 6\n",
            "\n",
            "Avg. loss for epoch: 0.6320179104804993\n",
            "Avg. test loss: 0.7086882591247559, avg. evaluation metric: 0\n",
            "Lr: 1e-05\n",
            "Epoch: 7\n",
            "\n",
            "Avg. loss for epoch: 0.6267886757850647\n",
            "Avg. test loss: 0.7251593470573425, avg. evaluation metric: 0\n",
            "Lr: 1e-05\n",
            "Epoch: 8\n",
            "\n",
            "Avg. loss for epoch: 0.62179034948349\n",
            "Avg. test loss: 0.7179152369499207, avg. evaluation metric: 0\n",
            "Lr: 1e-05\n",
            "Epoch: 9\n",
            "\n",
            "Avg. loss for epoch: 0.6132217645645142\n",
            "Avg. test loss: 0.7137906551361084, avg. evaluation metric: 0\n",
            "Lr: 1e-05\n",
            "Epoch: 10\n",
            "\n",
            "Avg. loss for epoch: 0.6091067790985107\n",
            "Avg. test loss: 0.711498498916626, avg. evaluation metric: 0\n",
            "Lr: 1e-05\n",
            "Epoch: 11\n",
            "\n",
            "Avg. loss for epoch: 0.6000199913978577\n",
            "Avg. test loss: 0.7091375589370728, avg. evaluation metric: 0\n",
            "Lr: 1e-05\n",
            "Epoch: 12\n",
            "\n",
            "Avg. loss for epoch: 0.5921159982681274\n",
            "Avg. test loss: 0.7083219885826111, avg. evaluation metric: 0\n",
            "Lr: 1e-05\n",
            "Epoch: 13\n",
            "\n",
            "Avg. loss for epoch: 0.586209237575531\n",
            "Avg. test loss: 0.7074475884437561, avg. evaluation metric: 0\n",
            "Lr: 1e-05\n",
            "Epoch: 14\n",
            "\n",
            "Avg. loss for epoch: 0.5787274241447449\n",
            "Avg. test loss: 0.7056412100791931, avg. evaluation metric: 0\n",
            "Lr: 1e-05\n"
          ]
        }
      ],
      "source": [
        "torch.manual_seed(42)\n",
        "torch.cuda.manual_seed(42)\n",
        "\n",
        "train_for_epochs(model_with_problematic,train_with_problematic_dataloader,test_with_problematic_dataloader,loss_function,optimizer,None,15,r2_score,device)"
      ]
    },
    {
      "cell_type": "code",
      "source": [
        "problematic_class_names = train_problematic_dataset.classes"
      ],
      "metadata": {
        "id": "jOw3cuE_UU95"
      },
      "execution_count": null,
      "outputs": []
    },
    {
      "cell_type": "code",
      "source": [
        "problematic_class_names"
      ],
      "metadata": {
        "colab": {
          "base_uri": "https://localhost:8080/"
        },
        "id": "g14bsqPMUdMz",
        "outputId": "ec00afe7-454e-4443-cae7-d595e87e5cfb"
      },
      "execution_count": null,
      "outputs": [
        {
          "output_type": "execute_result",
          "data": {
            "text/plain": [
              "['disgust', 'fear', 'surprise']"
            ]
          },
          "metadata": {},
          "execution_count": 24
        }
      ]
    },
    {
      "cell_type": "code",
      "source": [
        "device"
      ],
      "metadata": {
        "colab": {
          "base_uri": "https://localhost:8080/",
          "height": 35
        },
        "id": "kOyVix35cprh",
        "outputId": "0824d344-6fd4-4554-ed98-b690d8e792ab"
      },
      "execution_count": null,
      "outputs": [
        {
          "output_type": "execute_result",
          "data": {
            "text/plain": [
              "'cuda'"
            ],
            "application/vnd.google.colaboratory.intrinsic+json": {
              "type": "string"
            }
          },
          "metadata": {},
          "execution_count": 25
        }
      ]
    },
    {
      "cell_type": "code",
      "execution_count": null,
      "metadata": {
        "id": "UXqGDOpZyKTe"
      },
      "outputs": [],
      "source": [
        "classify_problematic = TinyVGG(1,64,len(problematic_class_names)).to(device)"
      ]
    },
    {
      "cell_type": "code",
      "source": [
        "loss_function = nn.CrossEntropyLoss()\n",
        "optimizer = torch.optim.Adam(params = classify_problematic.parameters(), lr = 0.00001)"
      ],
      "metadata": {
        "id": "fwEiJ5ZhcdBj"
      },
      "execution_count": null,
      "outputs": []
    },
    {
      "cell_type": "code",
      "source": [
        "torch.manual_seed(42)\n",
        "torch.cuda.manual_seed(42)\n",
        "\n",
        "train_for_epochs(classify_problematic,train_problematic_dataloader,test_problematic_dataloader,loss_function,optimizer,None,25,r2_score,device)"
      ],
      "metadata": {
        "colab": {
          "base_uri": "https://localhost:8080/",
          "height": 1000,
          "referenced_widgets": [
            "18f49df1737140dd8a0d591a9e4a2e57",
            "917cd4bba41b40faae0a4b27fe4a8956",
            "bf4955fd57e6467ba6226af940080fd9",
            "c7dfca92c1c54c01859002c86f0eeb14",
            "30e5e98432264b2fb515b36e7372d206",
            "de1a0903da754571b07c9412abd9094b",
            "378bde7c811d46c19ac2ccd4060e02fd",
            "274a9c06830f42fbaea336445f1de5b5",
            "bb13ff7fb4554e90aab4218b3b09e3bd",
            "1c8b50bba1b04898aa082a9035c3bcf8",
            "02ee0dce23de4e46b3c0923339fbe3a3"
          ]
        },
        "id": "3ewfSs4Bcc-z",
        "outputId": "f118f107-c027-4aba-e61d-d0225808e24c"
      },
      "execution_count": null,
      "outputs": [
        {
          "output_type": "display_data",
          "data": {
            "text/plain": [
              "  0%|          | 0/25 [00:00<?, ?it/s]"
            ],
            "application/vnd.jupyter.widget-view+json": {
              "version_major": 2,
              "version_minor": 0,
              "model_id": "18f49df1737140dd8a0d591a9e4a2e57"
            }
          },
          "metadata": {}
        },
        {
          "output_type": "stream",
          "name": "stdout",
          "text": [
            "Epoch: 0\n",
            "\n",
            "Avg. loss for epoch: 0.9944387078285217\n",
            "Avg. test loss: 1.125808596611023, avg. evaluation metric: 0\n",
            "Lr: 1e-05\n",
            "Epoch: 1\n",
            "\n",
            "Avg. loss for epoch: 0.9943814873695374\n",
            "Avg. test loss: 1.1286742687225342, avg. evaluation metric: 0\n",
            "Lr: 1e-05\n",
            "Epoch: 2\n",
            "\n",
            "Avg. loss for epoch: 0.9943736791610718\n",
            "Avg. test loss: 1.1279661655426025, avg. evaluation metric: 0\n",
            "Lr: 1e-05\n",
            "Epoch: 3\n",
            "\n",
            "Avg. loss for epoch: 0.993951141834259\n",
            "Avg. test loss: 1.128596544265747, avg. evaluation metric: 0\n",
            "Lr: 1e-05\n",
            "Epoch: 4\n",
            "\n",
            "Avg. loss for epoch: 0.9940813183784485\n",
            "Avg. test loss: 1.128796100616455, avg. evaluation metric: 0\n",
            "Lr: 1e-05\n",
            "Epoch: 5\n",
            "\n",
            "Avg. loss for epoch: 0.9945272207260132\n",
            "Avg. test loss: 1.1273530721664429, avg. evaluation metric: 0\n",
            "Lr: 1e-05\n",
            "Epoch: 6\n",
            "\n",
            "Avg. loss for epoch: 0.9947678446769714\n",
            "Avg. test loss: 1.1275413036346436, avg. evaluation metric: 0\n",
            "Lr: 1e-05\n",
            "Epoch: 7\n",
            "\n",
            "Avg. loss for epoch: 0.9942725896835327\n",
            "Avg. test loss: 1.127730131149292, avg. evaluation metric: 0\n",
            "Lr: 1e-05\n",
            "Epoch: 8\n",
            "\n",
            "Avg. loss for epoch: 0.9940329194068909\n",
            "Avg. test loss: 1.1295064687728882, avg. evaluation metric: 0\n",
            "Lr: 1e-05\n",
            "Epoch: 9\n",
            "\n",
            "Avg. loss for epoch: 0.9949139356613159\n",
            "Avg. test loss: 1.1307282447814941, avg. evaluation metric: 0\n",
            "Lr: 1e-05\n",
            "Epoch: 10\n",
            "\n",
            "Avg. loss for epoch: 0.9950680136680603\n"
          ]
        },
        {
          "output_type": "error",
          "ename": "KeyboardInterrupt",
          "evalue": "",
          "traceback": [
            "\u001b[0;31m---------------------------------------------------------------------------\u001b[0m",
            "\u001b[0;31mKeyboardInterrupt\u001b[0m                         Traceback (most recent call last)",
            "\u001b[0;32m<ipython-input-37-4591ed53842d>\u001b[0m in \u001b[0;36m<cell line: 4>\u001b[0;34m()\u001b[0m\n\u001b[1;32m      2\u001b[0m \u001b[0mtorch\u001b[0m\u001b[0;34m.\u001b[0m\u001b[0mcuda\u001b[0m\u001b[0;34m.\u001b[0m\u001b[0mmanual_seed\u001b[0m\u001b[0;34m(\u001b[0m\u001b[0;36m42\u001b[0m\u001b[0;34m)\u001b[0m\u001b[0;34m\u001b[0m\u001b[0;34m\u001b[0m\u001b[0m\n\u001b[1;32m      3\u001b[0m \u001b[0;34m\u001b[0m\u001b[0m\n\u001b[0;32m----> 4\u001b[0;31m \u001b[0mtrain_for_epochs\u001b[0m\u001b[0;34m(\u001b[0m\u001b[0mclassify_problematic\u001b[0m\u001b[0;34m,\u001b[0m\u001b[0mtrain_problematic_dataloader\u001b[0m\u001b[0;34m,\u001b[0m\u001b[0mtest_problematic_dataloader\u001b[0m\u001b[0;34m,\u001b[0m\u001b[0mloss_function\u001b[0m\u001b[0;34m,\u001b[0m\u001b[0moptimizer\u001b[0m\u001b[0;34m,\u001b[0m\u001b[0;32mNone\u001b[0m\u001b[0;34m,\u001b[0m\u001b[0;36m25\u001b[0m\u001b[0;34m,\u001b[0m\u001b[0mr2_score\u001b[0m\u001b[0;34m,\u001b[0m\u001b[0mdevice\u001b[0m\u001b[0;34m)\u001b[0m\u001b[0;34m\u001b[0m\u001b[0;34m\u001b[0m\u001b[0m\n\u001b[0m",
            "\u001b[0;32m<ipython-input-13-195fff602a8d>\u001b[0m in \u001b[0;36mtrain_for_epochs\u001b[0;34m(model, train_dataloader, test_dataloader, loss_function, optimizer, scheduler, epochs, metric, device)\u001b[0m\n\u001b[1;32m     12\u001b[0m     \u001b[0mprint\u001b[0m\u001b[0;34m(\u001b[0m\u001b[0;34mf'Epoch: {epoch}\\n'\u001b[0m\u001b[0;34m)\u001b[0m\u001b[0;34m\u001b[0m\u001b[0;34m\u001b[0m\u001b[0m\n\u001b[1;32m     13\u001b[0m     \u001b[0mtrain_model\u001b[0m\u001b[0;34m(\u001b[0m\u001b[0mmodel\u001b[0m\u001b[0;34m,\u001b[0m\u001b[0mtrain_dataloader\u001b[0m\u001b[0;34m,\u001b[0m\u001b[0mloss_function\u001b[0m\u001b[0;34m,\u001b[0m\u001b[0moptimizer\u001b[0m\u001b[0;34m,\u001b[0m\u001b[0mdevice\u001b[0m\u001b[0;34m)\u001b[0m\u001b[0;34m\u001b[0m\u001b[0;34m\u001b[0m\u001b[0m\n\u001b[0;32m---> 14\u001b[0;31m     \u001b[0mtest_model\u001b[0m\u001b[0;34m(\u001b[0m\u001b[0mmodel\u001b[0m\u001b[0;34m,\u001b[0m\u001b[0mtest_dataloader\u001b[0m\u001b[0;34m,\u001b[0m\u001b[0mloss_function\u001b[0m\u001b[0;34m,\u001b[0m\u001b[0mmetric\u001b[0m\u001b[0;34m,\u001b[0m\u001b[0mdevice\u001b[0m\u001b[0;34m)\u001b[0m\u001b[0;34m\u001b[0m\u001b[0;34m\u001b[0m\u001b[0m\n\u001b[0m\u001b[1;32m     15\u001b[0m     \u001b[0mprint\u001b[0m\u001b[0;34m(\u001b[0m\u001b[0;34mf'Lr: {optimizer.param_groups[0][\"lr\"]}'\u001b[0m\u001b[0;34m)\u001b[0m\u001b[0;34m\u001b[0m\u001b[0;34m\u001b[0m\u001b[0m\n\u001b[1;32m     16\u001b[0m     \u001b[0;31m#scheduler.step()\u001b[0m\u001b[0;34m\u001b[0m\u001b[0;34m\u001b[0m\u001b[0m\n",
            "\u001b[0;32m<ipython-input-12-5f2320d10d1f>\u001b[0m in \u001b[0;36mtest_model\u001b[0;34m(model, test_dataloader, loss_function, metric, device)\u001b[0m\n\u001b[1;32m     15\u001b[0m   \u001b[0;32mwith\u001b[0m \u001b[0mtorch\u001b[0m\u001b[0;34m.\u001b[0m\u001b[0minference_mode\u001b[0m\u001b[0;34m(\u001b[0m\u001b[0;34m)\u001b[0m\u001b[0;34m:\u001b[0m\u001b[0;34m\u001b[0m\u001b[0;34m\u001b[0m\u001b[0m\n\u001b[1;32m     16\u001b[0m \u001b[0;34m\u001b[0m\u001b[0m\n\u001b[0;32m---> 17\u001b[0;31m     \u001b[0;32mfor\u001b[0m \u001b[0mX\u001b[0m\u001b[0;34m,\u001b[0m\u001b[0mY\u001b[0m \u001b[0;32min\u001b[0m \u001b[0mtest_dataloader\u001b[0m\u001b[0;34m:\u001b[0m\u001b[0;34m\u001b[0m\u001b[0;34m\u001b[0m\u001b[0m\n\u001b[0m\u001b[1;32m     18\u001b[0m \u001b[0;34m\u001b[0m\u001b[0m\n\u001b[1;32m     19\u001b[0m       \u001b[0mX\u001b[0m \u001b[0;34m=\u001b[0m \u001b[0mX\u001b[0m\u001b[0;34m.\u001b[0m\u001b[0mto\u001b[0m\u001b[0;34m(\u001b[0m\u001b[0mdevice\u001b[0m\u001b[0;34m)\u001b[0m\u001b[0;34m\u001b[0m\u001b[0;34m\u001b[0m\u001b[0m\n",
            "\u001b[0;32m/usr/local/lib/python3.10/dist-packages/torch/utils/data/dataloader.py\u001b[0m in \u001b[0;36m__next__\u001b[0;34m(self)\u001b[0m\n\u001b[1;32m    628\u001b[0m                 \u001b[0;31m# TODO(https://github.com/pytorch/pytorch/issues/76750)\u001b[0m\u001b[0;34m\u001b[0m\u001b[0;34m\u001b[0m\u001b[0m\n\u001b[1;32m    629\u001b[0m                 \u001b[0mself\u001b[0m\u001b[0;34m.\u001b[0m\u001b[0m_reset\u001b[0m\u001b[0;34m(\u001b[0m\u001b[0;34m)\u001b[0m  \u001b[0;31m# type: ignore[call-arg]\u001b[0m\u001b[0;34m\u001b[0m\u001b[0;34m\u001b[0m\u001b[0m\n\u001b[0;32m--> 630\u001b[0;31m             \u001b[0mdata\u001b[0m \u001b[0;34m=\u001b[0m \u001b[0mself\u001b[0m\u001b[0;34m.\u001b[0m\u001b[0m_next_data\u001b[0m\u001b[0;34m(\u001b[0m\u001b[0;34m)\u001b[0m\u001b[0;34m\u001b[0m\u001b[0;34m\u001b[0m\u001b[0m\n\u001b[0m\u001b[1;32m    631\u001b[0m             \u001b[0mself\u001b[0m\u001b[0;34m.\u001b[0m\u001b[0m_num_yielded\u001b[0m \u001b[0;34m+=\u001b[0m \u001b[0;36m1\u001b[0m\u001b[0;34m\u001b[0m\u001b[0;34m\u001b[0m\u001b[0m\n\u001b[1;32m    632\u001b[0m             \u001b[0;32mif\u001b[0m \u001b[0mself\u001b[0m\u001b[0;34m.\u001b[0m\u001b[0m_dataset_kind\u001b[0m \u001b[0;34m==\u001b[0m \u001b[0m_DatasetKind\u001b[0m\u001b[0;34m.\u001b[0m\u001b[0mIterable\u001b[0m \u001b[0;32mand\u001b[0m\u001b[0;31m \u001b[0m\u001b[0;31m\\\u001b[0m\u001b[0;34m\u001b[0m\u001b[0;34m\u001b[0m\u001b[0m\n",
            "\u001b[0;32m/usr/local/lib/python3.10/dist-packages/torch/utils/data/dataloader.py\u001b[0m in \u001b[0;36m_next_data\u001b[0;34m(self)\u001b[0m\n\u001b[1;32m   1325\u001b[0m \u001b[0;34m\u001b[0m\u001b[0m\n\u001b[1;32m   1326\u001b[0m             \u001b[0;32massert\u001b[0m \u001b[0;32mnot\u001b[0m \u001b[0mself\u001b[0m\u001b[0;34m.\u001b[0m\u001b[0m_shutdown\u001b[0m \u001b[0;32mand\u001b[0m \u001b[0mself\u001b[0m\u001b[0;34m.\u001b[0m\u001b[0m_tasks_outstanding\u001b[0m \u001b[0;34m>\u001b[0m \u001b[0;36m0\u001b[0m\u001b[0;34m\u001b[0m\u001b[0;34m\u001b[0m\u001b[0m\n\u001b[0;32m-> 1327\u001b[0;31m             \u001b[0midx\u001b[0m\u001b[0;34m,\u001b[0m \u001b[0mdata\u001b[0m \u001b[0;34m=\u001b[0m \u001b[0mself\u001b[0m\u001b[0;34m.\u001b[0m\u001b[0m_get_data\u001b[0m\u001b[0;34m(\u001b[0m\u001b[0;34m)\u001b[0m\u001b[0;34m\u001b[0m\u001b[0;34m\u001b[0m\u001b[0m\n\u001b[0m\u001b[1;32m   1328\u001b[0m             \u001b[0mself\u001b[0m\u001b[0;34m.\u001b[0m\u001b[0m_tasks_outstanding\u001b[0m \u001b[0;34m-=\u001b[0m \u001b[0;36m1\u001b[0m\u001b[0;34m\u001b[0m\u001b[0;34m\u001b[0m\u001b[0m\n\u001b[1;32m   1329\u001b[0m             \u001b[0;32mif\u001b[0m \u001b[0mself\u001b[0m\u001b[0;34m.\u001b[0m\u001b[0m_dataset_kind\u001b[0m \u001b[0;34m==\u001b[0m \u001b[0m_DatasetKind\u001b[0m\u001b[0;34m.\u001b[0m\u001b[0mIterable\u001b[0m\u001b[0;34m:\u001b[0m\u001b[0;34m\u001b[0m\u001b[0;34m\u001b[0m\u001b[0m\n",
            "\u001b[0;32m/usr/local/lib/python3.10/dist-packages/torch/utils/data/dataloader.py\u001b[0m in \u001b[0;36m_get_data\u001b[0;34m(self)\u001b[0m\n\u001b[1;32m   1291\u001b[0m         \u001b[0;32melse\u001b[0m\u001b[0;34m:\u001b[0m\u001b[0;34m\u001b[0m\u001b[0;34m\u001b[0m\u001b[0m\n\u001b[1;32m   1292\u001b[0m             \u001b[0;32mwhile\u001b[0m \u001b[0;32mTrue\u001b[0m\u001b[0;34m:\u001b[0m\u001b[0;34m\u001b[0m\u001b[0;34m\u001b[0m\u001b[0m\n\u001b[0;32m-> 1293\u001b[0;31m                 \u001b[0msuccess\u001b[0m\u001b[0;34m,\u001b[0m \u001b[0mdata\u001b[0m \u001b[0;34m=\u001b[0m \u001b[0mself\u001b[0m\u001b[0;34m.\u001b[0m\u001b[0m_try_get_data\u001b[0m\u001b[0;34m(\u001b[0m\u001b[0;34m)\u001b[0m\u001b[0;34m\u001b[0m\u001b[0;34m\u001b[0m\u001b[0m\n\u001b[0m\u001b[1;32m   1294\u001b[0m                 \u001b[0;32mif\u001b[0m \u001b[0msuccess\u001b[0m\u001b[0;34m:\u001b[0m\u001b[0;34m\u001b[0m\u001b[0;34m\u001b[0m\u001b[0m\n\u001b[1;32m   1295\u001b[0m                     \u001b[0;32mreturn\u001b[0m \u001b[0mdata\u001b[0m\u001b[0;34m\u001b[0m\u001b[0;34m\u001b[0m\u001b[0m\n",
            "\u001b[0;32m/usr/local/lib/python3.10/dist-packages/torch/utils/data/dataloader.py\u001b[0m in \u001b[0;36m_try_get_data\u001b[0;34m(self, timeout)\u001b[0m\n\u001b[1;32m   1129\u001b[0m         \u001b[0;31m#   (bool: whether successfully get data, any: data if successful else None)\u001b[0m\u001b[0;34m\u001b[0m\u001b[0;34m\u001b[0m\u001b[0m\n\u001b[1;32m   1130\u001b[0m         \u001b[0;32mtry\u001b[0m\u001b[0;34m:\u001b[0m\u001b[0;34m\u001b[0m\u001b[0;34m\u001b[0m\u001b[0m\n\u001b[0;32m-> 1131\u001b[0;31m             \u001b[0mdata\u001b[0m \u001b[0;34m=\u001b[0m \u001b[0mself\u001b[0m\u001b[0;34m.\u001b[0m\u001b[0m_data_queue\u001b[0m\u001b[0;34m.\u001b[0m\u001b[0mget\u001b[0m\u001b[0;34m(\u001b[0m\u001b[0mtimeout\u001b[0m\u001b[0;34m=\u001b[0m\u001b[0mtimeout\u001b[0m\u001b[0;34m)\u001b[0m\u001b[0;34m\u001b[0m\u001b[0;34m\u001b[0m\u001b[0m\n\u001b[0m\u001b[1;32m   1132\u001b[0m             \u001b[0;32mreturn\u001b[0m \u001b[0;34m(\u001b[0m\u001b[0;32mTrue\u001b[0m\u001b[0;34m,\u001b[0m \u001b[0mdata\u001b[0m\u001b[0;34m)\u001b[0m\u001b[0;34m\u001b[0m\u001b[0;34m\u001b[0m\u001b[0m\n\u001b[1;32m   1133\u001b[0m         \u001b[0;32mexcept\u001b[0m \u001b[0mException\u001b[0m \u001b[0;32mas\u001b[0m \u001b[0me\u001b[0m\u001b[0;34m:\u001b[0m\u001b[0;34m\u001b[0m\u001b[0;34m\u001b[0m\u001b[0m\n",
            "\u001b[0;32m/usr/lib/python3.10/multiprocessing/queues.py\u001b[0m in \u001b[0;36mget\u001b[0;34m(self, block, timeout)\u001b[0m\n\u001b[1;32m    111\u001b[0m                 \u001b[0;32mif\u001b[0m \u001b[0mblock\u001b[0m\u001b[0;34m:\u001b[0m\u001b[0;34m\u001b[0m\u001b[0;34m\u001b[0m\u001b[0m\n\u001b[1;32m    112\u001b[0m                     \u001b[0mtimeout\u001b[0m \u001b[0;34m=\u001b[0m \u001b[0mdeadline\u001b[0m \u001b[0;34m-\u001b[0m \u001b[0mtime\u001b[0m\u001b[0;34m.\u001b[0m\u001b[0mmonotonic\u001b[0m\u001b[0;34m(\u001b[0m\u001b[0;34m)\u001b[0m\u001b[0;34m\u001b[0m\u001b[0;34m\u001b[0m\u001b[0m\n\u001b[0;32m--> 113\u001b[0;31m                     \u001b[0;32mif\u001b[0m \u001b[0;32mnot\u001b[0m \u001b[0mself\u001b[0m\u001b[0;34m.\u001b[0m\u001b[0m_poll\u001b[0m\u001b[0;34m(\u001b[0m\u001b[0mtimeout\u001b[0m\u001b[0;34m)\u001b[0m\u001b[0;34m:\u001b[0m\u001b[0;34m\u001b[0m\u001b[0;34m\u001b[0m\u001b[0m\n\u001b[0m\u001b[1;32m    114\u001b[0m                         \u001b[0;32mraise\u001b[0m \u001b[0mEmpty\u001b[0m\u001b[0;34m\u001b[0m\u001b[0;34m\u001b[0m\u001b[0m\n\u001b[1;32m    115\u001b[0m                 \u001b[0;32melif\u001b[0m \u001b[0;32mnot\u001b[0m \u001b[0mself\u001b[0m\u001b[0;34m.\u001b[0m\u001b[0m_poll\u001b[0m\u001b[0;34m(\u001b[0m\u001b[0;34m)\u001b[0m\u001b[0;34m:\u001b[0m\u001b[0;34m\u001b[0m\u001b[0;34m\u001b[0m\u001b[0m\n",
            "\u001b[0;32m/usr/lib/python3.10/multiprocessing/connection.py\u001b[0m in \u001b[0;36mpoll\u001b[0;34m(self, timeout)\u001b[0m\n\u001b[1;32m    255\u001b[0m         \u001b[0mself\u001b[0m\u001b[0;34m.\u001b[0m\u001b[0m_check_closed\u001b[0m\u001b[0;34m(\u001b[0m\u001b[0;34m)\u001b[0m\u001b[0;34m\u001b[0m\u001b[0;34m\u001b[0m\u001b[0m\n\u001b[1;32m    256\u001b[0m         \u001b[0mself\u001b[0m\u001b[0;34m.\u001b[0m\u001b[0m_check_readable\u001b[0m\u001b[0;34m(\u001b[0m\u001b[0;34m)\u001b[0m\u001b[0;34m\u001b[0m\u001b[0;34m\u001b[0m\u001b[0m\n\u001b[0;32m--> 257\u001b[0;31m         \u001b[0;32mreturn\u001b[0m \u001b[0mself\u001b[0m\u001b[0;34m.\u001b[0m\u001b[0m_poll\u001b[0m\u001b[0;34m(\u001b[0m\u001b[0mtimeout\u001b[0m\u001b[0;34m)\u001b[0m\u001b[0;34m\u001b[0m\u001b[0;34m\u001b[0m\u001b[0m\n\u001b[0m\u001b[1;32m    258\u001b[0m \u001b[0;34m\u001b[0m\u001b[0m\n\u001b[1;32m    259\u001b[0m     \u001b[0;32mdef\u001b[0m \u001b[0m__enter__\u001b[0m\u001b[0;34m(\u001b[0m\u001b[0mself\u001b[0m\u001b[0;34m)\u001b[0m\u001b[0;34m:\u001b[0m\u001b[0;34m\u001b[0m\u001b[0;34m\u001b[0m\u001b[0m\n",
            "\u001b[0;32m/usr/lib/python3.10/multiprocessing/connection.py\u001b[0m in \u001b[0;36m_poll\u001b[0;34m(self, timeout)\u001b[0m\n\u001b[1;32m    422\u001b[0m \u001b[0;34m\u001b[0m\u001b[0m\n\u001b[1;32m    423\u001b[0m     \u001b[0;32mdef\u001b[0m \u001b[0m_poll\u001b[0m\u001b[0;34m(\u001b[0m\u001b[0mself\u001b[0m\u001b[0;34m,\u001b[0m \u001b[0mtimeout\u001b[0m\u001b[0;34m)\u001b[0m\u001b[0;34m:\u001b[0m\u001b[0;34m\u001b[0m\u001b[0;34m\u001b[0m\u001b[0m\n\u001b[0;32m--> 424\u001b[0;31m         \u001b[0mr\u001b[0m \u001b[0;34m=\u001b[0m \u001b[0mwait\u001b[0m\u001b[0;34m(\u001b[0m\u001b[0;34m[\u001b[0m\u001b[0mself\u001b[0m\u001b[0;34m]\u001b[0m\u001b[0;34m,\u001b[0m \u001b[0mtimeout\u001b[0m\u001b[0;34m)\u001b[0m\u001b[0;34m\u001b[0m\u001b[0;34m\u001b[0m\u001b[0m\n\u001b[0m\u001b[1;32m    425\u001b[0m         \u001b[0;32mreturn\u001b[0m \u001b[0mbool\u001b[0m\u001b[0;34m(\u001b[0m\u001b[0mr\u001b[0m\u001b[0;34m)\u001b[0m\u001b[0;34m\u001b[0m\u001b[0;34m\u001b[0m\u001b[0m\n\u001b[1;32m    426\u001b[0m \u001b[0;34m\u001b[0m\u001b[0m\n",
            "\u001b[0;32m/usr/lib/python3.10/multiprocessing/connection.py\u001b[0m in \u001b[0;36mwait\u001b[0;34m(object_list, timeout)\u001b[0m\n\u001b[1;32m    929\u001b[0m \u001b[0;34m\u001b[0m\u001b[0m\n\u001b[1;32m    930\u001b[0m             \u001b[0;32mwhile\u001b[0m \u001b[0;32mTrue\u001b[0m\u001b[0;34m:\u001b[0m\u001b[0;34m\u001b[0m\u001b[0;34m\u001b[0m\u001b[0m\n\u001b[0;32m--> 931\u001b[0;31m                 \u001b[0mready\u001b[0m \u001b[0;34m=\u001b[0m \u001b[0mselector\u001b[0m\u001b[0;34m.\u001b[0m\u001b[0mselect\u001b[0m\u001b[0;34m(\u001b[0m\u001b[0mtimeout\u001b[0m\u001b[0;34m)\u001b[0m\u001b[0;34m\u001b[0m\u001b[0;34m\u001b[0m\u001b[0m\n\u001b[0m\u001b[1;32m    932\u001b[0m                 \u001b[0;32mif\u001b[0m \u001b[0mready\u001b[0m\u001b[0;34m:\u001b[0m\u001b[0;34m\u001b[0m\u001b[0;34m\u001b[0m\u001b[0m\n\u001b[1;32m    933\u001b[0m                     \u001b[0;32mreturn\u001b[0m \u001b[0;34m[\u001b[0m\u001b[0mkey\u001b[0m\u001b[0;34m.\u001b[0m\u001b[0mfileobj\u001b[0m \u001b[0;32mfor\u001b[0m \u001b[0;34m(\u001b[0m\u001b[0mkey\u001b[0m\u001b[0;34m,\u001b[0m \u001b[0mevents\u001b[0m\u001b[0;34m)\u001b[0m \u001b[0;32min\u001b[0m \u001b[0mready\u001b[0m\u001b[0;34m]\u001b[0m\u001b[0;34m\u001b[0m\u001b[0;34m\u001b[0m\u001b[0m\n",
            "\u001b[0;32m/usr/lib/python3.10/selectors.py\u001b[0m in \u001b[0;36mselect\u001b[0;34m(self, timeout)\u001b[0m\n\u001b[1;32m    414\u001b[0m         \u001b[0mready\u001b[0m \u001b[0;34m=\u001b[0m \u001b[0;34m[\u001b[0m\u001b[0;34m]\u001b[0m\u001b[0;34m\u001b[0m\u001b[0;34m\u001b[0m\u001b[0m\n\u001b[1;32m    415\u001b[0m         \u001b[0;32mtry\u001b[0m\u001b[0;34m:\u001b[0m\u001b[0;34m\u001b[0m\u001b[0;34m\u001b[0m\u001b[0m\n\u001b[0;32m--> 416\u001b[0;31m             \u001b[0mfd_event_list\u001b[0m \u001b[0;34m=\u001b[0m \u001b[0mself\u001b[0m\u001b[0;34m.\u001b[0m\u001b[0m_selector\u001b[0m\u001b[0;34m.\u001b[0m\u001b[0mpoll\u001b[0m\u001b[0;34m(\u001b[0m\u001b[0mtimeout\u001b[0m\u001b[0;34m)\u001b[0m\u001b[0;34m\u001b[0m\u001b[0;34m\u001b[0m\u001b[0m\n\u001b[0m\u001b[1;32m    417\u001b[0m         \u001b[0;32mexcept\u001b[0m \u001b[0mInterruptedError\u001b[0m\u001b[0;34m:\u001b[0m\u001b[0;34m\u001b[0m\u001b[0;34m\u001b[0m\u001b[0m\n\u001b[1;32m    418\u001b[0m             \u001b[0;32mreturn\u001b[0m \u001b[0mready\u001b[0m\u001b[0;34m\u001b[0m\u001b[0;34m\u001b[0m\u001b[0m\n",
            "\u001b[0;31mKeyboardInterrupt\u001b[0m: "
          ]
        }
      ]
    },
    {
      "cell_type": "code",
      "source": [],
      "metadata": {
        "id": "nv1pcRywcc8a"
      },
      "execution_count": null,
      "outputs": []
    },
    {
      "cell_type": "code",
      "source": [
        "resnet_problematic = ResNet(1,ResidualBlock, layer_sizes = [3, 4, 6, 3], num_of_classes=len(problematic_class_names),inplanes = 64).to(device)"
      ],
      "metadata": {
        "id": "gpuuhwfVUoXI"
      },
      "execution_count": null,
      "outputs": []
    },
    {
      "cell_type": "code",
      "source": [
        "loss_function2 = nn.CrossEntropyLoss()\n",
        "optimizer2 = torch.optim.Adam(params = resnet_problematic.parameters(), lr = 0.00001)"
      ],
      "metadata": {
        "id": "LYRWPElkSVgI"
      },
      "execution_count": null,
      "outputs": []
    },
    {
      "cell_type": "code",
      "source": [
        "torch.manual_seed(41)\n",
        "torch.cuda.manual_seed(41)\n",
        "\n",
        "train_for_epochs(resnet_problematic,train_problematic_dataloader,test_problematic_dataloader,loss_function2,optimizer2,None,15,r2_score,device)"
      ],
      "metadata": {
        "colab": {
          "base_uri": "https://localhost:8080/",
          "height": 1000,
          "referenced_widgets": [
            "7572db8b0d3841208d311590a2ff6ab7",
            "c19755634af54ddf97283f670287412d",
            "781ae7ee4e3b4dcaa3e9b14754b45583",
            "6c97b5774fbd4df1ad678daf6b721b77",
            "83d702568e814771bef6f3e90eff409f",
            "bc8b5a4f8bc44a53a29f1d6c3d9cf0f7",
            "b5af2df42d484e39ab5b4699627e954a",
            "97517c3dce194947a749e4ce68c160c5",
            "decca5e5ecfe48cfa0b5311894471cc5",
            "ef5e6c8015064a22835257d262ffffc4",
            "e255a81ad324418cb49da91d069c5746"
          ]
        },
        "id": "CD-U-HBwSfTU",
        "outputId": "ff9f2a3d-555e-474c-b508-bef5e3229c7a"
      },
      "execution_count": null,
      "outputs": [
        {
          "output_type": "display_data",
          "data": {
            "text/plain": [
              "  0%|          | 0/15 [00:00<?, ?it/s]"
            ],
            "application/vnd.jupyter.widget-view+json": {
              "version_major": 2,
              "version_minor": 0,
              "model_id": "7572db8b0d3841208d311590a2ff6ab7"
            }
          },
          "metadata": {}
        },
        {
          "output_type": "stream",
          "name": "stdout",
          "text": [
            "Epoch: 0\n",
            "\n",
            "Avg. loss for epoch: 1.0440796613693237\n",
            "Avg. test loss: 1.2121211290359497, avg. evaluation metric: 0\n",
            "Lr: 1e-05\n",
            "Epoch: 1\n",
            "\n",
            "Avg. loss for epoch: 1.0067729949951172\n",
            "Avg. test loss: 1.1602985858917236, avg. evaluation metric: 0\n",
            "Lr: 1e-05\n",
            "Epoch: 2\n",
            "\n",
            "Avg. loss for epoch: 1.010080099105835\n",
            "Avg. test loss: 1.2418317794799805, avg. evaluation metric: 0\n",
            "Lr: 1e-05\n",
            "Epoch: 3\n",
            "\n",
            "Avg. loss for epoch: 1.0097343921661377\n",
            "Avg. test loss: 1.1687902212142944, avg. evaluation metric: 0\n",
            "Lr: 1e-05\n",
            "Epoch: 4\n",
            "\n",
            "Avg. loss for epoch: 1.0136709213256836\n",
            "Avg. test loss: 1.2556443214416504, avg. evaluation metric: 0\n",
            "Lr: 1e-05\n",
            "Epoch: 5\n",
            "\n",
            "Avg. loss for epoch: 1.0077590942382812\n",
            "Avg. test loss: 1.215659260749817, avg. evaluation metric: 0\n",
            "Lr: 1e-05\n",
            "Epoch: 6\n",
            "\n",
            "Avg. loss for epoch: 1.003591775894165\n",
            "Avg. test loss: 1.2436902523040771, avg. evaluation metric: 0\n",
            "Lr: 1e-05\n",
            "Epoch: 7\n",
            "\n",
            "Avg. loss for epoch: 1.0078907012939453\n",
            "Avg. test loss: 1.2280077934265137, avg. evaluation metric: 0\n",
            "Lr: 1e-05\n",
            "Epoch: 8\n",
            "\n",
            "Avg. loss for epoch: 1.006330966949463\n",
            "Avg. test loss: 1.230448603630066, avg. evaluation metric: 0\n",
            "Lr: 1e-05\n",
            "Epoch: 9\n",
            "\n",
            "Avg. loss for epoch: 1.0111279487609863\n",
            "Avg. test loss: 1.2985516786575317, avg. evaluation metric: 0\n",
            "Lr: 1e-05\n",
            "Epoch: 10\n",
            "\n",
            "Avg. loss for epoch: 1.0068625211715698\n",
            "Avg. test loss: 1.3266818523406982, avg. evaluation metric: 0\n",
            "Lr: 1e-05\n",
            "Epoch: 11\n",
            "\n",
            "Avg. loss for epoch: 0.9999207258224487\n",
            "Avg. test loss: 1.2720675468444824, avg. evaluation metric: 0\n",
            "Lr: 1e-05\n",
            "Epoch: 12\n",
            "\n"
          ]
        },
        {
          "output_type": "error",
          "ename": "KeyboardInterrupt",
          "evalue": "",
          "traceback": [
            "\u001b[0;31m---------------------------------------------------------------------------\u001b[0m",
            "\u001b[0;31mKeyboardInterrupt\u001b[0m                         Traceback (most recent call last)",
            "\u001b[0;32m<ipython-input-40-840b448d977a>\u001b[0m in \u001b[0;36m<cell line: 4>\u001b[0;34m()\u001b[0m\n\u001b[1;32m      2\u001b[0m \u001b[0mtorch\u001b[0m\u001b[0;34m.\u001b[0m\u001b[0mcuda\u001b[0m\u001b[0;34m.\u001b[0m\u001b[0mmanual_seed\u001b[0m\u001b[0;34m(\u001b[0m\u001b[0;36m41\u001b[0m\u001b[0;34m)\u001b[0m\u001b[0;34m\u001b[0m\u001b[0;34m\u001b[0m\u001b[0m\n\u001b[1;32m      3\u001b[0m \u001b[0;34m\u001b[0m\u001b[0m\n\u001b[0;32m----> 4\u001b[0;31m \u001b[0mtrain_for_epochs\u001b[0m\u001b[0;34m(\u001b[0m\u001b[0mresnet_problematic\u001b[0m\u001b[0;34m,\u001b[0m\u001b[0mtrain_problematic_dataloader\u001b[0m\u001b[0;34m,\u001b[0m\u001b[0mtest_problematic_dataloader\u001b[0m\u001b[0;34m,\u001b[0m\u001b[0mloss_function2\u001b[0m\u001b[0;34m,\u001b[0m\u001b[0moptimizer2\u001b[0m\u001b[0;34m,\u001b[0m\u001b[0;32mNone\u001b[0m\u001b[0;34m,\u001b[0m\u001b[0;36m15\u001b[0m\u001b[0;34m,\u001b[0m\u001b[0mr2_score\u001b[0m\u001b[0;34m,\u001b[0m\u001b[0mdevice\u001b[0m\u001b[0;34m)\u001b[0m\u001b[0;34m\u001b[0m\u001b[0;34m\u001b[0m\u001b[0m\n\u001b[0m",
            "\u001b[0;32m<ipython-input-13-195fff602a8d>\u001b[0m in \u001b[0;36mtrain_for_epochs\u001b[0;34m(model, train_dataloader, test_dataloader, loss_function, optimizer, scheduler, epochs, metric, device)\u001b[0m\n\u001b[1;32m     11\u001b[0m   \u001b[0;32mfor\u001b[0m \u001b[0mepoch\u001b[0m \u001b[0;32min\u001b[0m \u001b[0mtqdm\u001b[0m\u001b[0;34m(\u001b[0m\u001b[0mrange\u001b[0m\u001b[0;34m(\u001b[0m\u001b[0mepochs\u001b[0m\u001b[0;34m)\u001b[0m\u001b[0;34m)\u001b[0m\u001b[0;34m:\u001b[0m\u001b[0;34m\u001b[0m\u001b[0;34m\u001b[0m\u001b[0m\n\u001b[1;32m     12\u001b[0m     \u001b[0mprint\u001b[0m\u001b[0;34m(\u001b[0m\u001b[0;34mf'Epoch: {epoch}\\n'\u001b[0m\u001b[0;34m)\u001b[0m\u001b[0;34m\u001b[0m\u001b[0;34m\u001b[0m\u001b[0m\n\u001b[0;32m---> 13\u001b[0;31m     \u001b[0mtrain_model\u001b[0m\u001b[0;34m(\u001b[0m\u001b[0mmodel\u001b[0m\u001b[0;34m,\u001b[0m\u001b[0mtrain_dataloader\u001b[0m\u001b[0;34m,\u001b[0m\u001b[0mloss_function\u001b[0m\u001b[0;34m,\u001b[0m\u001b[0moptimizer\u001b[0m\u001b[0;34m,\u001b[0m\u001b[0mdevice\u001b[0m\u001b[0;34m)\u001b[0m\u001b[0;34m\u001b[0m\u001b[0;34m\u001b[0m\u001b[0m\n\u001b[0m\u001b[1;32m     14\u001b[0m     \u001b[0mtest_model\u001b[0m\u001b[0;34m(\u001b[0m\u001b[0mmodel\u001b[0m\u001b[0;34m,\u001b[0m\u001b[0mtest_dataloader\u001b[0m\u001b[0;34m,\u001b[0m\u001b[0mloss_function\u001b[0m\u001b[0;34m,\u001b[0m\u001b[0mmetric\u001b[0m\u001b[0;34m,\u001b[0m\u001b[0mdevice\u001b[0m\u001b[0;34m)\u001b[0m\u001b[0;34m\u001b[0m\u001b[0;34m\u001b[0m\u001b[0m\n\u001b[1;32m     15\u001b[0m     \u001b[0mprint\u001b[0m\u001b[0;34m(\u001b[0m\u001b[0;34mf'Lr: {optimizer.param_groups[0][\"lr\"]}'\u001b[0m\u001b[0;34m)\u001b[0m\u001b[0;34m\u001b[0m\u001b[0;34m\u001b[0m\u001b[0m\n",
            "\u001b[0;32m<ipython-input-11-dbc9c129808c>\u001b[0m in \u001b[0;36mtrain_model\u001b[0;34m(model, train_dataloader, loss_function, optimizer, device)\u001b[0m\n\u001b[1;32m     28\u001b[0m     \u001b[0moptimizer\u001b[0m\u001b[0;34m.\u001b[0m\u001b[0mzero_grad\u001b[0m\u001b[0;34m(\u001b[0m\u001b[0;34m)\u001b[0m\u001b[0;34m\u001b[0m\u001b[0;34m\u001b[0m\u001b[0m\n\u001b[1;32m     29\u001b[0m \u001b[0;34m\u001b[0m\u001b[0m\n\u001b[0;32m---> 30\u001b[0;31m     \u001b[0mloss\u001b[0m\u001b[0;34m.\u001b[0m\u001b[0mbackward\u001b[0m\u001b[0;34m(\u001b[0m\u001b[0;34m)\u001b[0m\u001b[0;34m\u001b[0m\u001b[0;34m\u001b[0m\u001b[0m\n\u001b[0m\u001b[1;32m     31\u001b[0m \u001b[0;34m\u001b[0m\u001b[0m\n\u001b[1;32m     32\u001b[0m     \u001b[0moptimizer\u001b[0m\u001b[0;34m.\u001b[0m\u001b[0mstep\u001b[0m\u001b[0;34m(\u001b[0m\u001b[0;34m)\u001b[0m\u001b[0;34m\u001b[0m\u001b[0;34m\u001b[0m\u001b[0m\n",
            "\u001b[0;32m/usr/local/lib/python3.10/dist-packages/torch/_tensor.py\u001b[0m in \u001b[0;36mbackward\u001b[0;34m(self, gradient, retain_graph, create_graph, inputs)\u001b[0m\n\u001b[1;32m    519\u001b[0m                 \u001b[0minputs\u001b[0m\u001b[0;34m=\u001b[0m\u001b[0minputs\u001b[0m\u001b[0;34m,\u001b[0m\u001b[0;34m\u001b[0m\u001b[0;34m\u001b[0m\u001b[0m\n\u001b[1;32m    520\u001b[0m             )\n\u001b[0;32m--> 521\u001b[0;31m         torch.autograd.backward(\n\u001b[0m\u001b[1;32m    522\u001b[0m             \u001b[0mself\u001b[0m\u001b[0;34m,\u001b[0m \u001b[0mgradient\u001b[0m\u001b[0;34m,\u001b[0m \u001b[0mretain_graph\u001b[0m\u001b[0;34m,\u001b[0m \u001b[0mcreate_graph\u001b[0m\u001b[0;34m,\u001b[0m \u001b[0minputs\u001b[0m\u001b[0;34m=\u001b[0m\u001b[0minputs\u001b[0m\u001b[0;34m\u001b[0m\u001b[0;34m\u001b[0m\u001b[0m\n\u001b[1;32m    523\u001b[0m         )\n",
            "\u001b[0;32m/usr/local/lib/python3.10/dist-packages/torch/autograd/__init__.py\u001b[0m in \u001b[0;36mbackward\u001b[0;34m(tensors, grad_tensors, retain_graph, create_graph, grad_variables, inputs)\u001b[0m\n\u001b[1;32m    287\u001b[0m     \u001b[0;31m# some Python versions print out the first line of a multi-line function\u001b[0m\u001b[0;34m\u001b[0m\u001b[0;34m\u001b[0m\u001b[0m\n\u001b[1;32m    288\u001b[0m     \u001b[0;31m# calls in the traceback and some print out the last line\u001b[0m\u001b[0;34m\u001b[0m\u001b[0;34m\u001b[0m\u001b[0m\n\u001b[0;32m--> 289\u001b[0;31m     _engine_run_backward(\n\u001b[0m\u001b[1;32m    290\u001b[0m         \u001b[0mtensors\u001b[0m\u001b[0;34m,\u001b[0m\u001b[0;34m\u001b[0m\u001b[0;34m\u001b[0m\u001b[0m\n\u001b[1;32m    291\u001b[0m         \u001b[0mgrad_tensors_\u001b[0m\u001b[0;34m,\u001b[0m\u001b[0;34m\u001b[0m\u001b[0;34m\u001b[0m\u001b[0m\n",
            "\u001b[0;32m/usr/local/lib/python3.10/dist-packages/torch/autograd/graph.py\u001b[0m in \u001b[0;36m_engine_run_backward\u001b[0;34m(t_outputs, *args, **kwargs)\u001b[0m\n\u001b[1;32m    766\u001b[0m         \u001b[0munregister_hooks\u001b[0m \u001b[0;34m=\u001b[0m \u001b[0m_register_logging_hooks_on_whole_graph\u001b[0m\u001b[0;34m(\u001b[0m\u001b[0mt_outputs\u001b[0m\u001b[0;34m)\u001b[0m\u001b[0;34m\u001b[0m\u001b[0;34m\u001b[0m\u001b[0m\n\u001b[1;32m    767\u001b[0m     \u001b[0;32mtry\u001b[0m\u001b[0;34m:\u001b[0m\u001b[0;34m\u001b[0m\u001b[0;34m\u001b[0m\u001b[0m\n\u001b[0;32m--> 768\u001b[0;31m         return Variable._execution_engine.run_backward(  # Calls into the C++ engine to run the backward pass\n\u001b[0m\u001b[1;32m    769\u001b[0m             \u001b[0mt_outputs\u001b[0m\u001b[0;34m,\u001b[0m \u001b[0;34m*\u001b[0m\u001b[0margs\u001b[0m\u001b[0;34m,\u001b[0m \u001b[0;34m**\u001b[0m\u001b[0mkwargs\u001b[0m\u001b[0;34m\u001b[0m\u001b[0;34m\u001b[0m\u001b[0m\n\u001b[1;32m    770\u001b[0m         )  # Calls into the C++ engine to run the backward pass\n",
            "\u001b[0;31mKeyboardInterrupt\u001b[0m: "
          ]
        }
      ]
    },
    {
      "cell_type": "code",
      "source": [
        "class_names_with_problematic"
      ],
      "metadata": {
        "colab": {
          "base_uri": "https://localhost:8080/"
        },
        "id": "zUw6on5_bqG-",
        "outputId": "a81a5cea-af2e-44ee-8cc2-14486e9064f4"
      },
      "execution_count": null,
      "outputs": [
        {
          "output_type": "execute_result",
          "data": {
            "text/plain": [
              "['anger', 'contempt', 'happy', 'neutral', 'problematic', 'sad']"
            ]
          },
          "metadata": {},
          "execution_count": 81
        }
      ]
    },
    {
      "cell_type": "code",
      "source": [
        "preds = list()\n",
        "actual = list()\n",
        "resnet_with_problematic.eval()\n",
        "with torch.inference_mode():\n",
        "\n",
        "    for X,Y in test_with_problematic_dataloader:\n",
        "\n",
        "      X = X.to(device)\n",
        "      Y = Y.to(device)\n",
        "      predictions = resnet_with_problematic(X)\n",
        "      predictions = predictions.to('cpu')\n",
        "      for i in range(len(predictions)):\n",
        "\n",
        "        preds.append(predictions[i].argmax(dim=0))\n",
        "        actual.append(Y[i].cpu())\n",
        "\n",
        "cm = confusion_matrix(actual, preds, labels=[0,1,2,3,4,5])\n",
        "disp = ConfusionMatrixDisplay(confusion_matrix=cm,\n",
        "                              display_labels=class_names_with_problematic)\n",
        "disp.plot()\n",
        "plt.show()"
      ],
      "metadata": {
        "colab": {
          "base_uri": "https://localhost:8080/",
          "height": 449
        },
        "id": "6EFTgep0bh75",
        "outputId": "c7ce7ed4-0959-438e-dc9f-2550e1e87fba"
      },
      "execution_count": null,
      "outputs": [
        {
          "output_type": "display_data",
          "data": {
            "text/plain": [
              "<Figure size 640x480 with 2 Axes>"
            ],
            "image/png": "[encoded data removed]"
          },
          "metadata": {}
        }
      ]
    },
    {
      "cell_type": "code",
      "execution_count": null,
      "metadata": {
        "id": "UVoVsJPU6XpX"
      },
      "outputs": [],
      "source": [
        "torch.save(obj=resnet_with_problematic,\n",
        "           f='/content/resnet_model_with_problematic.pt')"
      ]
    },
    {
      "cell_type": "code",
      "execution_count": null,
      "metadata": {
        "id": "SX6VQobQBSTN"
      },
      "outputs": [],
      "source": []
    }
  ],
  "metadata": {
    "colab": {
      "provenance": [],
      "gpuType": "T4"
    },
    "kernelspec": {
      "display_name": "Python 3",
      "name": "python3"
    },
    "language_info": {
      "name": "python"
    },
    "widgets": {
      "application/vnd.jupyter.widget-state+json": {
        "8efad1fb1f7e41caab8d31307603d8f8": {
          "model_module": "@jupyter-widgets/controls",
          "model_name": "HBoxModel",
          "model_module_version": "1.5.0",
          "state": {
            "_dom_classes": [],
            "_model_module": "@jupyter-widgets/controls",
            "_model_module_version": "1.5.0",
            "_model_name": "HBoxModel",
            "_view_count": null,
            "_view_module": "@jupyter-widgets/controls",
            "_view_module_version": "1.5.0",
            "_view_name": "HBoxView",
            "box_style": "",
            "children": [
              "IPY_MODEL_10c6a5b082cd4fedace4df61f7b4d0b7",
              "IPY_MODEL_b007b06fe733427c9e405f14ac0c17fe",
              "IPY_MODEL_0fcba9af5fd849908e71aba979cb8d09"
            ],
            "layout": "IPY_MODEL_03752e868a8c4dfbaf06627234242775"
          }
        },
        "10c6a5b082cd4fedace4df61f7b4d0b7": {
          "model_module": "@jupyter-widgets/controls",
          "model_name": "HTMLModel",
          "model_module_version": "1.5.0",
          "state": {
            "_dom_classes": [],
            "_model_module": "@jupyter-widgets/controls",
            "_model_module_version": "1.5.0",
            "_model_name": "HTMLModel",
            "_view_count": null,
            "_view_module": "@jupyter-widgets/controls",
            "_view_module_version": "1.5.0",
            "_view_name": "HTMLView",
            "description": "",
            "description_tooltip": null,
            "layout": "IPY_MODEL_8a0a71620d9c4d1781d7f5c93df1b9e1",
            "placeholder": "​",
            "style": "IPY_MODEL_70a6695df6574fc8a9b6c40f13880e8c",
            "value": "100%"
          }
        },
        "b007b06fe733427c9e405f14ac0c17fe": {
          "model_module": "@jupyter-widgets/controls",
          "model_name": "FloatProgressModel",
          "model_module_version": "1.5.0",
          "state": {
            "_dom_classes": [],
            "_model_module": "@jupyter-widgets/controls",
            "_model_module_version": "1.5.0",
            "_model_name": "FloatProgressModel",
            "_view_count": null,
            "_view_module": "@jupyter-widgets/controls",
            "_view_module_version": "1.5.0",
            "_view_name": "ProgressView",
            "bar_style": "success",
            "description": "",
            "description_tooltip": null,
            "layout": "IPY_MODEL_8d0ac170d3d74f58bd795e8ec729aba1",
            "max": 15,
            "min": 0,
            "orientation": "horizontal",
            "style": "IPY_MODEL_4e6fb36c7aaf47d08967347b4a3b6457",
            "value": 15
          }
        },
        "0fcba9af5fd849908e71aba979cb8d09": {
          "model_module": "@jupyter-widgets/controls",
          "model_name": "HTMLModel",
          "model_module_version": "1.5.0",
          "state": {
            "_dom_classes": [],
            "_model_module": "@jupyter-widgets/controls",
            "_model_module_version": "1.5.0",
            "_model_name": "HTMLModel",
            "_view_count": null,
            "_view_module": "@jupyter-widgets/controls",
            "_view_module_version": "1.5.0",
            "_view_name": "HTMLView",
            "description": "",
            "description_tooltip": null,
            "layout": "IPY_MODEL_7a01d4a138114022a1a4a466c7026206",
            "placeholder": "​",
            "style": "IPY_MODEL_ec49b562e7104d2b8ad308f281df2252",
            "value": " 15/15 [05:39&lt;00:00, 22.45s/it]"
          }
        },
        "03752e868a8c4dfbaf06627234242775": {
          "model_module": "@jupyter-widgets/base",
          "model_name": "LayoutModel",
          "model_module_version": "1.2.0",
          "state": {
            "_model_module": "@jupyter-widgets/base",
            "_model_module_version": "1.2.0",
            "_model_name": "LayoutModel",
            "_view_count": null,
            "_view_module": "@jupyter-widgets/base",
            "_view_module_version": "1.2.0",
            "_view_name": "LayoutView",
            "align_content": null,
            "align_items": null,
            "align_self": null,
            "border": null,
            "bottom": null,
            "display": null,
            "flex": null,
            "flex_flow": null,
            "grid_area": null,
            "grid_auto_columns": null,
            "grid_auto_flow": null,
            "grid_auto_rows": null,
            "grid_column": null,
            "grid_gap": null,
            "grid_row": null,
            "grid_template_areas": null,
            "grid_template_columns": null,
            "grid_template_rows": null,
            "height": null,
            "justify_content": null,
            "justify_items": null,
            "left": null,
            "margin": null,
            "max_height": null,
            "max_width": null,
            "min_height": null,
            "min_width": null,
            "object_fit": null,
            "object_position": null,
            "order": null,
            "overflow": null,
            "overflow_x": null,
            "overflow_y": null,
            "padding": null,
            "right": null,
            "top": null,
            "visibility": null,
            "width": null
          }
        },
        "8a0a71620d9c4d1781d7f5c93df1b9e1": {
          "model_module": "@jupyter-widgets/base",
          "model_name": "LayoutModel",
          "model_module_version": "1.2.0",
          "state": {
            "_model_module": "@jupyter-widgets/base",
            "_model_module_version": "1.2.0",
            "_model_name": "LayoutModel",
            "_view_count": null,
            "_view_module": "@jupyter-widgets/base",
            "_view_module_version": "1.2.0",
            "_view_name": "LayoutView",
            "align_content": null,
            "align_items": null,
            "align_self": null,
            "border": null,
            "bottom": null,
            "display": null,
            "flex": null,
            "flex_flow": null,
            "grid_area": null,
            "grid_auto_columns": null,
            "grid_auto_flow": null,
            "grid_auto_rows": null,
            "grid_column": null,
            "grid_gap": null,
            "grid_row": null,
            "grid_template_areas": null,
            "grid_template_columns": null,
            "grid_template_rows": null,
            "height": null,
            "justify_content": null,
            "justify_items": null,
            "left": null,
            "margin": null,
            "max_height": null,
            "max_width": null,
            "min_height": null,
            "min_width": null,
            "object_fit": null,
            "object_position": null,
            "order": null,
            "overflow": null,
            "overflow_x": null,
            "overflow_y": null,
            "padding": null,
            "right": null,
            "top": null,
            "visibility": null,
            "width": null
          }
        },
        "70a6695df6574fc8a9b6c40f13880e8c": {
          "model_module": "@jupyter-widgets/controls",
          "model_name": "DescriptionStyleModel",
          "model_module_version": "1.5.0",
          "state": {
            "_model_module": "@jupyter-widgets/controls",
            "_model_module_version": "1.5.0",
            "_model_name": "DescriptionStyleModel",
            "_view_count": null,
            "_view_module": "@jupyter-widgets/base",
            "_view_module_version": "1.2.0",
            "_view_name": "StyleView",
            "description_width": ""
          }
        },
        "8d0ac170d3d74f58bd795e8ec729aba1": {
          "model_module": "@jupyter-widgets/base",
          "model_name": "LayoutModel",
          "model_module_version": "1.2.0",
          "state": {
            "_model_module": "@jupyter-widgets/base",
            "_model_module_version": "1.2.0",
            "_model_name": "LayoutModel",
            "_view_count": null,
            "_view_module": "@jupyter-widgets/base",
            "_view_module_version": "1.2.0",
            "_view_name": "LayoutView",
            "align_content": null,
            "align_items": null,
            "align_self": null,
            "border": null,
            "bottom": null,
            "display": null,
            "flex": null,
            "flex_flow": null,
            "grid_area": null,
            "grid_auto_columns": null,
            "grid_auto_flow": null,
            "grid_auto_rows": null,
            "grid_column": null,
            "grid_gap": null,
            "grid_row": null,
            "grid_template_areas": null,
            "grid_template_columns": null,
            "grid_template_rows": null,
            "height": null,
            "justify_content": null,
            "justify_items": null,
            "left": null,
            "margin": null,
            "max_height": null,
            "max_width": null,
            "min_height": null,
            "min_width": null,
            "object_fit": null,
            "object_position": null,
            "order": null,
            "overflow": null,
            "overflow_x": null,
            "overflow_y": null,
            "padding": null,
            "right": null,
            "top": null,
            "visibility": null,
            "width": null
          }
        },
        "4e6fb36c7aaf47d08967347b4a3b6457": {
          "model_module": "@jupyter-widgets/controls",
          "model_name": "ProgressStyleModel",
          "model_module_version": "1.5.0",
          "state": {
            "_model_module": "@jupyter-widgets/controls",
            "_model_module_version": "1.5.0",
            "_model_name": "ProgressStyleModel",
            "_view_count": null,
            "_view_module": "@jupyter-widgets/base",
            "_view_module_version": "1.2.0",
            "_view_name": "StyleView",
            "bar_color": null,
            "description_width": ""
          }
        },
        "7a01d4a138114022a1a4a466c7026206": {
          "model_module": "@jupyter-widgets/base",
          "model_name": "LayoutModel",
          "model_module_version": "1.2.0",
          "state": {
            "_model_module": "@jupyter-widgets/base",
            "_model_module_version": "1.2.0",
            "_model_name": "LayoutModel",
            "_view_count": null,
            "_view_module": "@jupyter-widgets/base",
            "_view_module_version": "1.2.0",
            "_view_name": "LayoutView",
            "align_content": null,
            "align_items": null,
            "align_self": null,
            "border": null,
            "bottom": null,
            "display": null,
            "flex": null,
            "flex_flow": null,
            "grid_area": null,
            "grid_auto_columns": null,
            "grid_auto_flow": null,
            "grid_auto_rows": null,
            "grid_column": null,
            "grid_gap": null,
            "grid_row": null,
            "grid_template_areas": null,
            "grid_template_columns": null,
            "grid_template_rows": null,
            "height": null,
            "justify_content": null,
            "justify_items": null,
            "left": null,
            "margin": null,
            "max_height": null,
            "max_width": null,
            "min_height": null,
            "min_width": null,
            "object_fit": null,
            "object_position": null,
            "order": null,
            "overflow": null,
            "overflow_x": null,
            "overflow_y": null,
            "padding": null,
            "right": null,
            "top": null,
            "visibility": null,
            "width": null
          }
        },
        "ec49b562e7104d2b8ad308f281df2252": {
          "model_module": "@jupyter-widgets/controls",
          "model_name": "DescriptionStyleModel",
          "model_module_version": "1.5.0",
          "state": {
            "_model_module": "@jupyter-widgets/controls",
            "_model_module_version": "1.5.0",
            "_model_name": "DescriptionStyleModel",
            "_view_count": null,
            "_view_module": "@jupyter-widgets/base",
            "_view_module_version": "1.2.0",
            "_view_name": "StyleView",
            "description_width": ""
          }
        },
        "18f49df1737140dd8a0d591a9e4a2e57": {
          "model_module": "@jupyter-widgets/controls",
          "model_name": "HBoxModel",
          "model_module_version": "1.5.0",
          "state": {
            "_dom_classes": [],
            "_model_module": "@jupyter-widgets/controls",
            "_model_module_version": "1.5.0",
            "_model_name": "HBoxModel",
            "_view_count": null,
            "_view_module": "@jupyter-widgets/controls",
            "_view_module_version": "1.5.0",
            "_view_name": "HBoxView",
            "box_style": "",
            "children": [
              "IPY_MODEL_917cd4bba41b40faae0a4b27fe4a8956",
              "IPY_MODEL_bf4955fd57e6467ba6226af940080fd9",
              "IPY_MODEL_c7dfca92c1c54c01859002c86f0eeb14"
            ],
            "layout": "IPY_MODEL_30e5e98432264b2fb515b36e7372d206"
          }
        },
        "917cd4bba41b40faae0a4b27fe4a8956": {
          "model_module": "@jupyter-widgets/controls",
          "model_name": "HTMLModel",
          "model_module_version": "1.5.0",
          "state": {
            "_dom_classes": [],
            "_model_module": "@jupyter-widgets/controls",
            "_model_module_version": "1.5.0",
            "_model_name": "HTMLModel",
            "_view_count": null,
            "_view_module": "@jupyter-widgets/controls",
            "_view_module_version": "1.5.0",
            "_view_name": "HTMLView",
            "description": "",
            "description_tooltip": null,
            "layout": "IPY_MODEL_de1a0903da754571b07c9412abd9094b",
            "placeholder": "​",
            "style": "IPY_MODEL_378bde7c811d46c19ac2ccd4060e02fd",
            "value": " 40%"
          }
        },
        "bf4955fd57e6467ba6226af940080fd9": {
          "model_module": "@jupyter-widgets/controls",
          "model_name": "FloatProgressModel",
          "model_module_version": "1.5.0",
          "state": {
            "_dom_classes": [],
            "_model_module": "@jupyter-widgets/controls",
            "_model_module_version": "1.5.0",
            "_model_name": "FloatProgressModel",
            "_view_count": null,
            "_view_module": "@jupyter-widgets/controls",
            "_view_module_version": "1.5.0",
            "_view_name": "ProgressView",
            "bar_style": "danger",
            "description": "",
            "description_tooltip": null,
            "layout": "IPY_MODEL_274a9c06830f42fbaea336445f1de5b5",
            "max": 25,
            "min": 0,
            "orientation": "horizontal",
            "style": "IPY_MODEL_bb13ff7fb4554e90aab4218b3b09e3bd",
            "value": 10
          }
        },
        "c7dfca92c1c54c01859002c86f0eeb14": {
          "model_module": "@jupyter-widgets/controls",
          "model_name": "HTMLModel",
          "model_module_version": "1.5.0",
          "state": {
            "_dom_classes": [],
            "_model_module": "@jupyter-widgets/controls",
            "_model_module_version": "1.5.0",
            "_model_name": "HTMLModel",
            "_view_count": null,
            "_view_module": "@jupyter-widgets/controls",
            "_view_module_version": "1.5.0",
            "_view_name": "HTMLView",
            "description": "",
            "description_tooltip": null,
            "layout": "IPY_MODEL_1c8b50bba1b04898aa082a9035c3bcf8",
            "placeholder": "​",
            "style": "IPY_MODEL_02ee0dce23de4e46b3c0923339fbe3a3",
            "value": " 10/25 [01:42&lt;02:27,  9.82s/it]"
          }
        },
        "30e5e98432264b2fb515b36e7372d206": {
          "model_module": "@jupyter-widgets/base",
          "model_name": "LayoutModel",
          "model_module_version": "1.2.0",
          "state": {
            "_model_module": "@jupyter-widgets/base",
            "_model_module_version": "1.2.0",
            "_model_name": "LayoutModel",
            "_view_count": null,
            "_view_module": "@jupyter-widgets/base",
            "_view_module_version": "1.2.0",
            "_view_name": "LayoutView",
            "align_content": null,
            "align_items": null,
            "align_self": null,
            "border": null,
            "bottom": null,
            "display": null,
            "flex": null,
            "flex_flow": null,
            "grid_area": null,
            "grid_auto_columns": null,
            "grid_auto_flow": null,
            "grid_auto_rows": null,
            "grid_column": null,
            "grid_gap": null,
            "grid_row": null,
            "grid_template_areas": null,
            "grid_template_columns": null,
            "grid_template_rows": null,
            "height": null,
            "justify_content": null,
            "justify_items": null,
            "left": null,
            "margin": null,
            "max_height": null,
            "max_width": null,
            "min_height": null,
            "min_width": null,
            "object_fit": null,
            "object_position": null,
            "order": null,
            "overflow": null,
            "overflow_x": null,
            "overflow_y": null,
            "padding": null,
            "right": null,
            "top": null,
            "visibility": null,
            "width": null
          }
        },
        "de1a0903da754571b07c9412abd9094b": {
          "model_module": "@jupyter-widgets/base",
          "model_name": "LayoutModel",
          "model_module_version": "1.2.0",
          "state": {
            "_model_module": "@jupyter-widgets/base",
            "_model_module_version": "1.2.0",
            "_model_name": "LayoutModel",
            "_view_count": null,
            "_view_module": "@jupyter-widgets/base",
            "_view_module_version": "1.2.0",
            "_view_name": "LayoutView",
            "align_content": null,
            "align_items": null,
            "align_self": null,
            "border": null,
            "bottom": null,
            "display": null,
            "flex": null,
            "flex_flow": null,
            "grid_area": null,
            "grid_auto_columns": null,
            "grid_auto_flow": null,
            "grid_auto_rows": null,
            "grid_column": null,
            "grid_gap": null,
            "grid_row": null,
            "grid_template_areas": null,
            "grid_template_columns": null,
            "grid_template_rows": null,
            "height": null,
            "justify_content": null,
            "justify_items": null,
            "left": null,
            "margin": null,
            "max_height": null,
            "max_width": null,
            "min_height": null,
            "min_width": null,
            "object_fit": null,
            "object_position": null,
            "order": null,
            "overflow": null,
            "overflow_x": null,
            "overflow_y": null,
            "padding": null,
            "right": null,
            "top": null,
            "visibility": null,
            "width": null
          }
        },
        "378bde7c811d46c19ac2ccd4060e02fd": {
          "model_module": "@jupyter-widgets/controls",
          "model_name": "DescriptionStyleModel",
          "model_module_version": "1.5.0",
          "state": {
            "_model_module": "@jupyter-widgets/controls",
            "_model_module_version": "1.5.0",
            "_model_name": "DescriptionStyleModel",
            "_view_count": null,
            "_view_module": "@jupyter-widgets/base",
            "_view_module_version": "1.2.0",
            "_view_name": "StyleView",
            "description_width": ""
          }
        },
        "274a9c06830f42fbaea336445f1de5b5": {
          "model_module": "@jupyter-widgets/base",
          "model_name": "LayoutModel",
          "model_module_version": "1.2.0",
          "state": {
            "_model_module": "@jupyter-widgets/base",
            "_model_module_version": "1.2.0",
            "_model_name": "LayoutModel",
            "_view_count": null,
            "_view_module": "@jupyter-widgets/base",
            "_view_module_version": "1.2.0",
            "_view_name": "LayoutView",
            "align_content": null,
            "align_items": null,
            "align_self": null,
            "border": null,
            "bottom": null,
            "display": null,
            "flex": null,
            "flex_flow": null,
            "grid_area": null,
            "grid_auto_columns": null,
            "grid_auto_flow": null,
            "grid_auto_rows": null,
            "grid_column": null,
            "grid_gap": null,
            "grid_row": null,
            "grid_template_areas": null,
            "grid_template_columns": null,
            "grid_template_rows": null,
            "height": null,
            "justify_content": null,
            "justify_items": null,
            "left": null,
            "margin": null,
            "max_height": null,
            "max_width": null,
            "min_height": null,
            "min_width": null,
            "object_fit": null,
            "object_position": null,
            "order": null,
            "overflow": null,
            "overflow_x": null,
            "overflow_y": null,
            "padding": null,
            "right": null,
            "top": null,
            "visibility": null,
            "width": null
          }
        },
        "bb13ff7fb4554e90aab4218b3b09e3bd": {
          "model_module": "@jupyter-widgets/controls",
          "model_name": "ProgressStyleModel",
          "model_module_version": "1.5.0",
          "state": {
            "_model_module": "@jupyter-widgets/controls",
            "_model_module_version": "1.5.0",
            "_model_name": "ProgressStyleModel",
            "_view_count": null,
            "_view_module": "@jupyter-widgets/base",
            "_view_module_version": "1.2.0",
            "_view_name": "StyleView",
            "bar_color": null,
            "description_width": ""
          }
        },
        "1c8b50bba1b04898aa082a9035c3bcf8": {
          "model_module": "@jupyter-widgets/base",
          "model_name": "LayoutModel",
          "model_module_version": "1.2.0",
          "state": {
            "_model_module": "@jupyter-widgets/base",
            "_model_module_version": "1.2.0",
            "_model_name": "LayoutModel",
            "_view_count": null,
            "_view_module": "@jupyter-widgets/base",
            "_view_module_version": "1.2.0",
            "_view_name": "LayoutView",
            "align_content": null,
            "align_items": null,
            "align_self": null,
            "border": null,
            "bottom": null,
            "display": null,
            "flex": null,
            "flex_flow": null,
            "grid_area": null,
            "grid_auto_columns": null,
            "grid_auto_flow": null,
            "grid_auto_rows": null,
            "grid_column": null,
            "grid_gap": null,
            "grid_row": null,
            "grid_template_areas": null,
            "grid_template_columns": null,
            "grid_template_rows": null,
            "height": null,
            "justify_content": null,
            "justify_items": null,
            "left": null,
            "margin": null,
            "max_height": null,
            "max_width": null,
            "min_height": null,
            "min_width": null,
            "object_fit": null,
            "object_position": null,
            "order": null,
            "overflow": null,
            "overflow_x": null,
            "overflow_y": null,
            "padding": null,
            "right": null,
            "top": null,
            "visibility": null,
            "width": null
          }
        },
        "02ee0dce23de4e46b3c0923339fbe3a3": {
          "model_module": "@jupyter-widgets/controls",
          "model_name": "DescriptionStyleModel",
          "model_module_version": "1.5.0",
          "state": {
            "_model_module": "@jupyter-widgets/controls",
            "_model_module_version": "1.5.0",
            "_model_name": "DescriptionStyleModel",
            "_view_count": null,
            "_view_module": "@jupyter-widgets/base",
            "_view_module_version": "1.2.0",
            "_view_name": "StyleView",
            "description_width": ""
          }
        },
        "7572db8b0d3841208d311590a2ff6ab7": {
          "model_module": "@jupyter-widgets/controls",
          "model_name": "HBoxModel",
          "model_module_version": "1.5.0",
          "state": {
            "_dom_classes": [],
            "_model_module": "@jupyter-widgets/controls",
            "_model_module_version": "1.5.0",
            "_model_name": "HBoxModel",
            "_view_count": null,
            "_view_module": "@jupyter-widgets/controls",
            "_view_module_version": "1.5.0",
            "_view_name": "HBoxView",
            "box_style": "",
            "children": [
              "IPY_MODEL_c19755634af54ddf97283f670287412d",
              "IPY_MODEL_781ae7ee4e3b4dcaa3e9b14754b45583",
              "IPY_MODEL_6c97b5774fbd4df1ad678daf6b721b77"
            ],
            "layout": "IPY_MODEL_83d702568e814771bef6f3e90eff409f"
          }
        },
        "c19755634af54ddf97283f670287412d": {
          "model_module": "@jupyter-widgets/controls",
          "model_name": "HTMLModel",
          "model_module_version": "1.5.0",
          "state": {
            "_dom_classes": [],
            "_model_module": "@jupyter-widgets/controls",
            "_model_module_version": "1.5.0",
            "_model_name": "HTMLModel",
            "_view_count": null,
            "_view_module": "@jupyter-widgets/controls",
            "_view_module_version": "1.5.0",
            "_view_name": "HTMLView",
            "description": "",
            "description_tooltip": null,
            "layout": "IPY_MODEL_bc8b5a4f8bc44a53a29f1d6c3d9cf0f7",
            "placeholder": "​",
            "style": "IPY_MODEL_b5af2df42d484e39ab5b4699627e954a",
            "value": " 80%"
          }
        },
        "781ae7ee4e3b4dcaa3e9b14754b45583": {
          "model_module": "@jupyter-widgets/controls",
          "model_name": "FloatProgressModel",
          "model_module_version": "1.5.0",
          "state": {
            "_dom_classes": [],
            "_model_module": "@jupyter-widgets/controls",
            "_model_module_version": "1.5.0",
            "_model_name": "FloatProgressModel",
            "_view_count": null,
            "_view_module": "@jupyter-widgets/controls",
            "_view_module_version": "1.5.0",
            "_view_name": "ProgressView",
            "bar_style": "danger",
            "description": "",
            "description_tooltip": null,
            "layout": "IPY_MODEL_97517c3dce194947a749e4ce68c160c5",
            "max": 15,
            "min": 0,
            "orientation": "horizontal",
            "style": "IPY_MODEL_decca5e5ecfe48cfa0b5311894471cc5",
            "value": 12
          }
        },
        "6c97b5774fbd4df1ad678daf6b721b77": {
          "model_module": "@jupyter-widgets/controls",
          "model_name": "HTMLModel",
          "model_module_version": "1.5.0",
          "state": {
            "_dom_classes": [],
            "_model_module": "@jupyter-widgets/controls",
            "_model_module_version": "1.5.0",
            "_model_name": "HTMLModel",
            "_view_count": null,
            "_view_module": "@jupyter-widgets/controls",
            "_view_module_version": "1.5.0",
            "_view_name": "HTMLView",
            "description": "",
            "description_tooltip": null,
            "layout": "IPY_MODEL_ef5e6c8015064a22835257d262ffffc4",
            "placeholder": "​",
            "style": "IPY_MODEL_e255a81ad324418cb49da91d069c5746",
            "value": " 12/15 [02:35&lt;00:36, 12.33s/it]"
          }
        },
        "83d702568e814771bef6f3e90eff409f": {
          "model_module": "@jupyter-widgets/base",
          "model_name": "LayoutModel",
          "model_module_version": "1.2.0",
          "state": {
            "_model_module": "@jupyter-widgets/base",
            "_model_module_version": "1.2.0",
            "_model_name": "LayoutModel",
            "_view_count": null,
            "_view_module": "@jupyter-widgets/base",
            "_view_module_version": "1.2.0",
            "_view_name": "LayoutView",
            "align_content": null,
            "align_items": null,
            "align_self": null,
            "border": null,
            "bottom": null,
            "display": null,
            "flex": null,
            "flex_flow": null,
            "grid_area": null,
            "grid_auto_columns": null,
            "grid_auto_flow": null,
            "grid_auto_rows": null,
            "grid_column": null,
            "grid_gap": null,
            "grid_row": null,
            "grid_template_areas": null,
            "grid_template_columns": null,
            "grid_template_rows": null,
            "height": null,
            "justify_content": null,
            "justify_items": null,
            "left": null,
            "margin": null,
            "max_height": null,
            "max_width": null,
            "min_height": null,
            "min_width": null,
            "object_fit": null,
            "object_position": null,
            "order": null,
            "overflow": null,
            "overflow_x": null,
            "overflow_y": null,
            "padding": null,
            "right": null,
            "top": null,
            "visibility": null,
            "width": null
          }
        },
        "bc8b5a4f8bc44a53a29f1d6c3d9cf0f7": {
          "model_module": "@jupyter-widgets/base",
          "model_name": "LayoutModel",
          "model_module_version": "1.2.0",
          "state": {
            "_model_module": "@jupyter-widgets/base",
            "_model_module_version": "1.2.0",
            "_model_name": "LayoutModel",
            "_view_count": null,
            "_view_module": "@jupyter-widgets/base",
            "_view_module_version": "1.2.0",
            "_view_name": "LayoutView",
            "align_content": null,
            "align_items": null,
            "align_self": null,
            "border": null,
            "bottom": null,
            "display": null,
            "flex": null,
            "flex_flow": null,
            "grid_area": null,
            "grid_auto_columns": null,
            "grid_auto_flow": null,
            "grid_auto_rows": null,
            "grid_column": null,
            "grid_gap": null,
            "grid_row": null,
            "grid_template_areas": null,
            "grid_template_columns": null,
            "grid_template_rows": null,
            "height": null,
            "justify_content": null,
            "justify_items": null,
            "left": null,
            "margin": null,
            "max_height": null,
            "max_width": null,
            "min_height": null,
            "min_width": null,
            "object_fit": null,
            "object_position": null,
            "order": null,
            "overflow": null,
            "overflow_x": null,
            "overflow_y": null,
            "padding": null,
            "right": null,
            "top": null,
            "visibility": null,
            "width": null
          }
        },
        "b5af2df42d484e39ab5b4699627e954a": {
          "model_module": "@jupyter-widgets/controls",
          "model_name": "DescriptionStyleModel",
          "model_module_version": "1.5.0",
          "state": {
            "_model_module": "@jupyter-widgets/controls",
            "_model_module_version": "1.5.0",
            "_model_name": "DescriptionStyleModel",
            "_view_count": null,
            "_view_module": "@jupyter-widgets/base",
            "_view_module_version": "1.2.0",
            "_view_name": "StyleView",
            "description_width": ""
          }
        },
        "97517c3dce194947a749e4ce68c160c5": {
          "model_module": "@jupyter-widgets/base",
          "model_name": "LayoutModel",
          "model_module_version": "1.2.0",
          "state": {
            "_model_module": "@jupyter-widgets/base",
            "_model_module_version": "1.2.0",
            "_model_name": "LayoutModel",
            "_view_count": null,
            "_view_module": "@jupyter-widgets/base",
            "_view_module_version": "1.2.0",
            "_view_name": "LayoutView",
            "align_content": null,
            "align_items": null,
            "align_self": null,
            "border": null,
            "bottom": null,
            "display": null,
            "flex": null,
            "flex_flow": null,
            "grid_area": null,
            "grid_auto_columns": null,
            "grid_auto_flow": null,
            "grid_auto_rows": null,
            "grid_column": null,
            "grid_gap": null,
            "grid_row": null,
            "grid_template_areas": null,
            "grid_template_columns": null,
            "grid_template_rows": null,
            "height": null,
            "justify_content": null,
            "justify_items": null,
            "left": null,
            "margin": null,
            "max_height": null,
            "max_width": null,
            "min_height": null,
            "min_width": null,
            "object_fit": null,
            "object_position": null,
            "order": null,
            "overflow": null,
            "overflow_x": null,
            "overflow_y": null,
            "padding": null,
            "right": null,
            "top": null,
            "visibility": null,
            "width": null
          }
        },
        "decca5e5ecfe48cfa0b5311894471cc5": {
          "model_module": "@jupyter-widgets/controls",
          "model_name": "ProgressStyleModel",
          "model_module_version": "1.5.0",
          "state": {
            "_model_module": "@jupyter-widgets/controls",
            "_model_module_version": "1.5.0",
            "_model_name": "ProgressStyleModel",
            "_view_count": null,
            "_view_module": "@jupyter-widgets/base",
            "_view_module_version": "1.2.0",
            "_view_name": "StyleView",
            "bar_color": null,
            "description_width": ""
          }
        },
        "ef5e6c8015064a22835257d262ffffc4": {
          "model_module": "@jupyter-widgets/base",
          "model_name": "LayoutModel",
          "model_module_version": "1.2.0",
          "state": {
            "_model_module": "@jupyter-widgets/base",
            "_model_module_version": "1.2.0",
            "_model_name": "LayoutModel",
            "_view_count": null,
            "_view_module": "@jupyter-widgets/base",
            "_view_module_version": "1.2.0",
            "_view_name": "LayoutView",
            "align_content": null,
            "align_items": null,
            "align_self": null,
            "border": null,
            "bottom": null,
            "display": null,
            "flex": null,
            "flex_flow": null,
            "grid_area": null,
            "grid_auto_columns": null,
            "grid_auto_flow": null,
            "grid_auto_rows": null,
            "grid_column": null,
            "grid_gap": null,
            "grid_row": null,
            "grid_template_areas": null,
            "grid_template_columns": null,
            "grid_template_rows": null,
            "height": null,
            "justify_content": null,
            "justify_items": null,
            "left": null,
            "margin": null,
            "max_height": null,
            "max_width": null,
            "min_height": null,
            "min_width": null,
            "object_fit": null,
            "object_position": null,
            "order": null,
            "overflow": null,
            "overflow_x": null,
            "overflow_y": null,
            "padding": null,
            "right": null,
            "top": null,
            "visibility": null,
            "width": null
          }
        },
        "e255a81ad324418cb49da91d069c5746": {
          "model_module": "@jupyter-widgets/controls",
          "model_name": "DescriptionStyleModel",
          "model_module_version": "1.5.0",
          "state": {
            "_model_module": "@jupyter-widgets/controls",
            "_model_module_version": "1.5.0",
            "_model_name": "DescriptionStyleModel",
            "_view_count": null,
            "_view_module": "@jupyter-widgets/base",
            "_view_module_version": "1.2.0",
            "_view_name": "StyleView",
            "description_width": ""
          }
        },
        "7f18c6cf40ba4300888d8b048892cb9e": {
          "model_module": "@jupyter-widgets/controls",
          "model_name": "HBoxModel",
          "model_module_version": "1.5.0",
          "state": {
            "_dom_classes": [],
            "_model_module": "@jupyter-widgets/controls",
            "_model_module_version": "1.5.0",
            "_model_name": "HBoxModel",
            "_view_count": null,
            "_view_module": "@jupyter-widgets/controls",
            "_view_module_version": "1.5.0",
            "_view_name": "HBoxView",
            "box_style": "",
            "children": [
              "IPY_MODEL_e66883b2f53f4d1cbbc46976e1958c8a",
              "IPY_MODEL_ac1bec6c8258412b8b94dcb35ea40dc7",
              "IPY_MODEL_8d4bf1fc74034fb6a941b06d52d3f390"
            ],
            "layout": "IPY_MODEL_8025be922b0f43288566b7fce4cf51db"
          }
        },
        "e66883b2f53f4d1cbbc46976e1958c8a": {
          "model_module": "@jupyter-widgets/controls",
          "model_name": "HTMLModel",
          "model_module_version": "1.5.0",
          "state": {
            "_dom_classes": [],
            "_model_module": "@jupyter-widgets/controls",
            "_model_module_version": "1.5.0",
            "_model_name": "HTMLModel",
            "_view_count": null,
            "_view_module": "@jupyter-widgets/controls",
            "_view_module_version": "1.5.0",
            "_view_name": "HTMLView",
            "description": "",
            "description_tooltip": null,
            "layout": "IPY_MODEL_a7e0be3a22ad4c35af465ba76f29fd65",
            "placeholder": "​",
            "style": "IPY_MODEL_e6ff245129d749d69698dd0bd922688e",
            "value": " 67%"
          }
        },
        "ac1bec6c8258412b8b94dcb35ea40dc7": {
          "model_module": "@jupyter-widgets/controls",
          "model_name": "FloatProgressModel",
          "model_module_version": "1.5.0",
          "state": {
            "_dom_classes": [],
            "_model_module": "@jupyter-widgets/controls",
            "_model_module_version": "1.5.0",
            "_model_name": "FloatProgressModel",
            "_view_count": null,
            "_view_module": "@jupyter-widgets/controls",
            "_view_module_version": "1.5.0",
            "_view_name": "ProgressView",
            "bar_style": "",
            "description": "",
            "description_tooltip": null,
            "layout": "IPY_MODEL_f764d004c25642cf9524cb68adbbf5ae",
            "max": 15,
            "min": 0,
            "orientation": "horizontal",
            "style": "IPY_MODEL_4abcf2af6e21450a983ba727aa5f5435",
            "value": 10
          }
        },
        "8d4bf1fc74034fb6a941b06d52d3f390": {
          "model_module": "@jupyter-widgets/controls",
          "model_name": "HTMLModel",
          "model_module_version": "1.5.0",
          "state": {
            "_dom_classes": [],
            "_model_module": "@jupyter-widgets/controls",
            "_model_module_version": "1.5.0",
            "_model_name": "HTMLModel",
            "_view_count": null,
            "_view_module": "@jupyter-widgets/controls",
            "_view_module_version": "1.5.0",
            "_view_name": "HTMLView",
            "description": "",
            "description_tooltip": null,
            "layout": "IPY_MODEL_bf11f6b2e47d4869a87f49337e7c1bbe",
            "placeholder": "​",
            "style": "IPY_MODEL_e6eb027b5b0b47f3a5b114aaeb8962d8",
            "value": " 10/15 [07:17&lt;03:34, 42.99s/it]"
          }
        },
        "8025be922b0f43288566b7fce4cf51db": {
          "model_module": "@jupyter-widgets/base",
          "model_name": "LayoutModel",
          "model_module_version": "1.2.0",
          "state": {
            "_model_module": "@jupyter-widgets/base",
            "_model_module_version": "1.2.0",
            "_model_name": "LayoutModel",
            "_view_count": null,
            "_view_module": "@jupyter-widgets/base",
            "_view_module_version": "1.2.0",
            "_view_name": "LayoutView",
            "align_content": null,
            "align_items": null,
            "align_self": null,
            "border": null,
            "bottom": null,
            "display": null,
            "flex": null,
            "flex_flow": null,
            "grid_area": null,
            "grid_auto_columns": null,
            "grid_auto_flow": null,
            "grid_auto_rows": null,
            "grid_column": null,
            "grid_gap": null,
            "grid_row": null,
            "grid_template_areas": null,
            "grid_template_columns": null,
            "grid_template_rows": null,
            "height": null,
            "justify_content": null,
            "justify_items": null,
            "left": null,
            "margin": null,
            "max_height": null,
            "max_width": null,
            "min_height": null,
            "min_width": null,
            "object_fit": null,
            "object_position": null,
            "order": null,
            "overflow": null,
            "overflow_x": null,
            "overflow_y": null,
            "padding": null,
            "right": null,
            "top": null,
            "visibility": null,
            "width": null
          }
        },
        "a7e0be3a22ad4c35af465ba76f29fd65": {
          "model_module": "@jupyter-widgets/base",
          "model_name": "LayoutModel",
          "model_module_version": "1.2.0",
          "state": {
            "_model_module": "@jupyter-widgets/base",
            "_model_module_version": "1.2.0",
            "_model_name": "LayoutModel",
            "_view_count": null,
            "_view_module": "@jupyter-widgets/base",
            "_view_module_version": "1.2.0",
            "_view_name": "LayoutView",
            "align_content": null,
            "align_items": null,
            "align_self": null,
            "border": null,
            "bottom": null,
            "display": null,
            "flex": null,
            "flex_flow": null,
            "grid_area": null,
            "grid_auto_columns": null,
            "grid_auto_flow": null,
            "grid_auto_rows": null,
            "grid_column": null,
            "grid_gap": null,
            "grid_row": null,
            "grid_template_areas": null,
            "grid_template_columns": null,
            "grid_template_rows": null,
            "height": null,
            "justify_content": null,
            "justify_items": null,
            "left": null,
            "margin": null,
            "max_height": null,
            "max_width": null,
            "min_height": null,
            "min_width": null,
            "object_fit": null,
            "object_position": null,
            "order": null,
            "overflow": null,
            "overflow_x": null,
            "overflow_y": null,
            "padding": null,
            "right": null,
            "top": null,
            "visibility": null,
            "width": null
          }
        },
        "e6ff245129d749d69698dd0bd922688e": {
          "model_module": "@jupyter-widgets/controls",
          "model_name": "DescriptionStyleModel",
          "model_module_version": "1.5.0",
          "state": {
            "_model_module": "@jupyter-widgets/controls",
            "_model_module_version": "1.5.0",
            "_model_name": "DescriptionStyleModel",
            "_view_count": null,
            "_view_module": "@jupyter-widgets/base",
            "_view_module_version": "1.2.0",
            "_view_name": "StyleView",
            "description_width": ""
          }
        },
        "f764d004c25642cf9524cb68adbbf5ae": {
          "model_module": "@jupyter-widgets/base",
          "model_name": "LayoutModel",
          "model_module_version": "1.2.0",
          "state": {
            "_model_module": "@jupyter-widgets/base",
            "_model_module_version": "1.2.0",
            "_model_name": "LayoutModel",
            "_view_count": null,
            "_view_module": "@jupyter-widgets/base",
            "_view_module_version": "1.2.0",
            "_view_name": "LayoutView",
            "align_content": null,
            "align_items": null,
            "align_self": null,
            "border": null,
            "bottom": null,
            "display": null,
            "flex": null,
            "flex_flow": null,
            "grid_area": null,
            "grid_auto_columns": null,
            "grid_auto_flow": null,
            "grid_auto_rows": null,
            "grid_column": null,
            "grid_gap": null,
            "grid_row": null,
            "grid_template_areas": null,
            "grid_template_columns": null,
            "grid_template_rows": null,
            "height": null,
            "justify_content": null,
            "justify_items": null,
            "left": null,
            "margin": null,
            "max_height": null,
            "max_width": null,
            "min_height": null,
            "min_width": null,
            "object_fit": null,
            "object_position": null,
            "order": null,
            "overflow": null,
            "overflow_x": null,
            "overflow_y": null,
            "padding": null,
            "right": null,
            "top": null,
            "visibility": null,
            "width": null
          }
        },
        "4abcf2af6e21450a983ba727aa5f5435": {
          "model_module": "@jupyter-widgets/controls",
          "model_name": "ProgressStyleModel",
          "model_module_version": "1.5.0",
          "state": {
            "_model_module": "@jupyter-widgets/controls",
            "_model_module_version": "1.5.0",
            "_model_name": "ProgressStyleModel",
            "_view_count": null,
            "_view_module": "@jupyter-widgets/base",
            "_view_module_version": "1.2.0",
            "_view_name": "StyleView",
            "bar_color": null,
            "description_width": ""
          }
        },
        "bf11f6b2e47d4869a87f49337e7c1bbe": {
          "model_module": "@jupyter-widgets/base",
          "model_name": "LayoutModel",
          "model_module_version": "1.2.0",
          "state": {
            "_model_module": "@jupyter-widgets/base",
            "_model_module_version": "1.2.0",
            "_model_name": "LayoutModel",
            "_view_count": null,
            "_view_module": "@jupyter-widgets/base",
            "_view_module_version": "1.2.0",
            "_view_name": "LayoutView",
            "align_content": null,
            "align_items": null,
            "align_self": null,
            "border": null,
            "bottom": null,
            "display": null,
            "flex": null,
            "flex_flow": null,
            "grid_area": null,
            "grid_auto_columns": null,
            "grid_auto_flow": null,
            "grid_auto_rows": null,
            "grid_column": null,
            "grid_gap": null,
            "grid_row": null,
            "grid_template_areas": null,
            "grid_template_columns": null,
            "grid_template_rows": null,
            "height": null,
            "justify_content": null,
            "justify_items": null,
            "left": null,
            "margin": null,
            "max_height": null,
            "max_width": null,
            "min_height": null,
            "min_width": null,
            "object_fit": null,
            "object_position": null,
            "order": null,
            "overflow": null,
            "overflow_x": null,
            "overflow_y": null,
            "padding": null,
            "right": null,
            "top": null,
            "visibility": null,
            "width": null
          }
        },
        "e6eb027b5b0b47f3a5b114aaeb8962d8": {
          "model_module": "@jupyter-widgets/controls",
          "model_name": "DescriptionStyleModel",
          "model_module_version": "1.5.0",
          "state": {
            "_model_module": "@jupyter-widgets/controls",
            "_model_module_version": "1.5.0",
            "_model_name": "DescriptionStyleModel",
            "_view_count": null,
            "_view_module": "@jupyter-widgets/base",
            "_view_module_version": "1.2.0",
            "_view_name": "StyleView",
            "description_width": ""
          }
        }
      }
    },
    "accelerator": "GPU"
  },
  "nbformat": 4,
  "nbformat_minor": 0
}